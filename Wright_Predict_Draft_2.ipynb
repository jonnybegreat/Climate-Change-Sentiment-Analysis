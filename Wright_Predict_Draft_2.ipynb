{
  "nbformat": 4,
  "nbformat_minor": 0,
  "metadata": {
    "kernelspec": {
      "display_name": "Python 3",
      "language": "python",
      "name": "python3"
    },
    "language_info": {
      "codemirror_mode": {
        "name": "ipython",
        "version": 3
      },
      "file_extension": ".py",
      "mimetype": "text/x-python",
      "name": "python",
      "nbconvert_exporter": "python",
      "pygments_lexer": "ipython3",
      "version": "3.7.7"
    },
    "colab": {
      "name": "Predict Draft2.ipynb",
      "provenance": [],
      "collapsed_sections": [
        "BiRbU3BeS70q",
        "GVSJnv_xS705",
        "2c-kbBsbS71c",
        "CP7ysR6gS71d",
        "fb9NNNCqS71l",
        "HtMva64fS71t",
        "m_3-DoO0S712",
        "0nMMz7-nS718",
        "qMI2OKS3S72A",
        "TygCOIBlS72A",
        "v7TYzxFWS72F",
        "px0nbxFLS72J",
        "LhhC97vTS72O",
        "Fqcl6tJxS72S",
        "JVSKVgOwS72Y",
        "Cq1zDWwDS72c",
        "6y-4wmJNS72h",
        "C_iUEwXIS727",
        "3lmwV83SS73I",
        "WHdl8Gz8Efn5",
        "1va4wl6sF8Mm",
        "_DTajy6WIdFB",
        "4VsqqMRxJSLA",
        "cy1JAEA8S73N",
        "Xf0pcvjZS73N",
        "oEV4tIPIS73j",
        "gzyIEQiXS734",
        "BFeMWAysS74V",
        "Xr8RQPp8S74W",
        "a5ZrJdIjS74r",
        "qLM661_cS74s"
      ],
      "toc_visible": true
    }
  },
  "cells": [
    {
      "cell_type": "markdown",
      "metadata": {
        "id": "BiRbU3BeS70q",
        "colab_type": "text"
      },
      "source": [
        "## Library imports"
      ]
    },
    {
      "cell_type": "code",
      "metadata": {
        "id": "dz7fJ2vVS70s",
        "colab_type": "code",
        "colab": {}
      },
      "source": [
        "import re\n",
        "import string\n",
        "\n",
        "import numpy as np\n",
        "import pandas as pd\n",
        "import matplotlib.pyplot as plt\n",
        "\n",
        "import spacy\n",
        "from spacy import displacy\n",
        "from spacy.lang.en.stop_words import STOP_WORDS\n",
        "\n",
        "from textblob import TextBlob\n",
        "from wordcloud import WordCloud\n",
        "from sklearn.utils import resample\n",
        "from sklearn.pipeline import Pipeline\n",
        "from sklearn.metrics import accuracy_score\n",
        "from sklearn.metrics import confusion_matrix\n",
        "from sklearn.metrics import classification_report\n",
        "from sklearn.model_selection import train_test_split\n",
        "from sklearn.feature_extraction.text import CountVectorizer\n",
        "from sklearn.feature_extraction.text import TfidfVectorizer\n",
        "from sklearn.linear_model import LogisticRegression\n",
        "from sklearn.linear_model import LogisticRegressionCV\n",
        "from sklearn.naive_bayes import MultinomialNB\n",
        "from sklearn.linear_model import SGDClassifier\n",
        "from sklearn.preprocessing import StandardScaler\n",
        "from sklearn.pipeline import make_pipeline\n",
        "from sklearn.svm import LinearSVC\n",
        "from sklearn.model_selection import cross_val_score\n",
        "from sklearn.tree import DecisionTreeClassifier\n",
        "from sklearn.ensemble import RandomForestClassifier"
      ],
      "execution_count": 1,
      "outputs": []
    },
    {
      "cell_type": "code",
      "metadata": {
        "id": "E-4pdUuVS70z",
        "colab_type": "code",
        "colab": {}
      },
      "source": [
        "SEED = 42\n",
        "document_tweets = []\n",
        "nlp = spacy.load('en_core_web_sm')"
      ],
      "execution_count": 2,
      "outputs": []
    },
    {
      "cell_type": "markdown",
      "metadata": {
        "id": "GVSJnv_xS705",
        "colab_type": "text"
      },
      "source": [
        "### Loading datasets"
      ]
    },
    {
      "cell_type": "code",
      "metadata": {
        "id": "kZa_8HvOS706",
        "colab_type": "code",
        "colab": {}
      },
      "source": [
        "train_tweets = pd.read_csv('climate-change-belief-analysis/train.csv')\n",
        "test_tweets = pd.read_csv('climate-change-belief-analysis/test.csv')\n"
      ],
      "execution_count": 49,
      "outputs": []
    },
    {
      "cell_type": "code",
      "metadata": {
        "id": "su2zLEcwS70-",
        "colab_type": "code",
        "colab": {
          "base_uri": "https://localhost:8080/",
          "height": 191
        },
        "outputId": "ab45faa6-6aae-4bb4-c2de-17d467424506"
      },
      "source": [
        "train_tweets.head()"
      ],
      "execution_count": 4,
      "outputs": [
        {
          "output_type": "execute_result",
          "data": {
            "text/html": [
              "<div>\n",
              "<style scoped>\n",
              "    .dataframe tbody tr th:only-of-type {\n",
              "        vertical-align: middle;\n",
              "    }\n",
              "\n",
              "    .dataframe tbody tr th {\n",
              "        vertical-align: top;\n",
              "    }\n",
              "\n",
              "    .dataframe thead th {\n",
              "        text-align: right;\n",
              "    }\n",
              "</style>\n",
              "<table border=\"1\" class=\"dataframe\">\n",
              "  <thead>\n",
              "    <tr style=\"text-align: right;\">\n",
              "      <th></th>\n",
              "      <th>sentiment</th>\n",
              "      <th>message</th>\n",
              "      <th>tweetid</th>\n",
              "    </tr>\n",
              "  </thead>\n",
              "  <tbody>\n",
              "    <tr>\n",
              "      <th>0</th>\n",
              "      <td>1</td>\n",
              "      <td>PolySciMajor EPA chief doesn't think carbon di...</td>\n",
              "      <td>625221</td>\n",
              "    </tr>\n",
              "    <tr>\n",
              "      <th>1</th>\n",
              "      <td>1</td>\n",
              "      <td>It's not like we lack evidence of anthropogeni...</td>\n",
              "      <td>126103</td>\n",
              "    </tr>\n",
              "    <tr>\n",
              "      <th>2</th>\n",
              "      <td>2</td>\n",
              "      <td>RT @RawStory: Researchers say we have three ye...</td>\n",
              "      <td>698562</td>\n",
              "    </tr>\n",
              "    <tr>\n",
              "      <th>3</th>\n",
              "      <td>1</td>\n",
              "      <td>#TodayinMaker# WIRED : 2016 was a pivotal year...</td>\n",
              "      <td>573736</td>\n",
              "    </tr>\n",
              "    <tr>\n",
              "      <th>4</th>\n",
              "      <td>1</td>\n",
              "      <td>RT @SoyNovioDeTodas: It's 2016, and a racist, ...</td>\n",
              "      <td>466954</td>\n",
              "    </tr>\n",
              "  </tbody>\n",
              "</table>\n",
              "</div>"
            ],
            "text/plain": [
              "   sentiment                                            message  tweetid\n",
              "0          1  PolySciMajor EPA chief doesn't think carbon di...   625221\n",
              "1          1  It's not like we lack evidence of anthropogeni...   126103\n",
              "2          2  RT @RawStory: Researchers say we have three ye...   698562\n",
              "3          1  #TodayinMaker# WIRED : 2016 was a pivotal year...   573736\n",
              "4          1  RT @SoyNovioDeTodas: It's 2016, and a racist, ...   466954"
            ]
          },
          "metadata": {
            "tags": []
          },
          "execution_count": 4
        }
      ]
    },
    {
      "cell_type": "code",
      "metadata": {
        "id": "fSqmwwOZS71E",
        "colab_type": "code",
        "colab": {
          "base_uri": "https://localhost:8080/",
          "height": 180
        },
        "outputId": "bfe4a216-4e67-420c-a46f-a39ddc2872f3"
      },
      "source": [
        "train_tweets.info()"
      ],
      "execution_count": 5,
      "outputs": [
        {
          "output_type": "stream",
          "text": [
            "<class 'pandas.core.frame.DataFrame'>\n",
            "RangeIndex: 15819 entries, 0 to 15818\n",
            "Data columns (total 3 columns):\n",
            " #   Column     Non-Null Count  Dtype \n",
            "---  ------     --------------  ----- \n",
            " 0   sentiment  15819 non-null  int64 \n",
            " 1   message    15819 non-null  object\n",
            " 2   tweetid    15819 non-null  int64 \n",
            "dtypes: int64(2), object(1)\n",
            "memory usage: 370.9+ KB\n"
          ],
          "name": "stdout"
        }
      ]
    },
    {
      "cell_type": "code",
      "metadata": {
        "id": "tul5JXbES71J",
        "colab_type": "code",
        "colab": {
          "base_uri": "https://localhost:8080/",
          "height": 98
        },
        "outputId": "2bb700fb-1c7b-479d-f22f-f78c3c8dd4c0"
      },
      "source": [
        "train_tweets['sentiment'].value_counts()"
      ],
      "execution_count": 6,
      "outputs": [
        {
          "output_type": "execute_result",
          "data": {
            "text/plain": [
              " 1    8530\n",
              " 2    3640\n",
              " 0    2353\n",
              "-1    1296\n",
              "Name: sentiment, dtype: int64"
            ]
          },
          "metadata": {
            "tags": []
          },
          "execution_count": 6
        }
      ]
    },
    {
      "cell_type": "code",
      "metadata": {
        "id": "pXKUkTTgS71O",
        "colab_type": "code",
        "colab": {
          "base_uri": "https://localhost:8080/",
          "height": 191
        },
        "outputId": "58a77864-7f92-4336-fb7a-79d01227b252"
      },
      "source": [
        "test_tweets.head()"
      ],
      "execution_count": 7,
      "outputs": [
        {
          "output_type": "execute_result",
          "data": {
            "text/html": [
              "<div>\n",
              "<style scoped>\n",
              "    .dataframe tbody tr th:only-of-type {\n",
              "        vertical-align: middle;\n",
              "    }\n",
              "\n",
              "    .dataframe tbody tr th {\n",
              "        vertical-align: top;\n",
              "    }\n",
              "\n",
              "    .dataframe thead th {\n",
              "        text-align: right;\n",
              "    }\n",
              "</style>\n",
              "<table border=\"1\" class=\"dataframe\">\n",
              "  <thead>\n",
              "    <tr style=\"text-align: right;\">\n",
              "      <th></th>\n",
              "      <th>message</th>\n",
              "      <th>tweetid</th>\n",
              "    </tr>\n",
              "  </thead>\n",
              "  <tbody>\n",
              "    <tr>\n",
              "      <th>0</th>\n",
              "      <td>Europe will now be looking to China to make su...</td>\n",
              "      <td>169760</td>\n",
              "    </tr>\n",
              "    <tr>\n",
              "      <th>1</th>\n",
              "      <td>Combine this with the polling of staffers re c...</td>\n",
              "      <td>35326</td>\n",
              "    </tr>\n",
              "    <tr>\n",
              "      <th>2</th>\n",
              "      <td>The scary, unimpeachable evidence that climate...</td>\n",
              "      <td>224985</td>\n",
              "    </tr>\n",
              "    <tr>\n",
              "      <th>3</th>\n",
              "      <td>@Karoli @morgfair @OsborneInk @dailykos \\nPuti...</td>\n",
              "      <td>476263</td>\n",
              "    </tr>\n",
              "    <tr>\n",
              "      <th>4</th>\n",
              "      <td>RT @FakeWillMoore: 'Female orgasms cause globa...</td>\n",
              "      <td>872928</td>\n",
              "    </tr>\n",
              "  </tbody>\n",
              "</table>\n",
              "</div>"
            ],
            "text/plain": [
              "                                             message  tweetid\n",
              "0  Europe will now be looking to China to make su...   169760\n",
              "1  Combine this with the polling of staffers re c...    35326\n",
              "2  The scary, unimpeachable evidence that climate...   224985\n",
              "3  @Karoli @morgfair @OsborneInk @dailykos \\nPuti...   476263\n",
              "4  RT @FakeWillMoore: 'Female orgasms cause globa...   872928"
            ]
          },
          "metadata": {
            "tags": []
          },
          "execution_count": 7
        }
      ]
    },
    {
      "cell_type": "code",
      "metadata": {
        "id": "XTZRjkrSS71W",
        "colab_type": "code",
        "colab": {
          "base_uri": "https://localhost:8080/",
          "height": 163
        },
        "outputId": "39e6e82d-7cc0-4a00-c8db-69990a8d08ce"
      },
      "source": [
        "test_tweets.info()"
      ],
      "execution_count": 8,
      "outputs": [
        {
          "output_type": "stream",
          "text": [
            "<class 'pandas.core.frame.DataFrame'>\n",
            "RangeIndex: 10546 entries, 0 to 10545\n",
            "Data columns (total 2 columns):\n",
            " #   Column   Non-Null Count  Dtype \n",
            "---  ------   --------------  ----- \n",
            " 0   message  10546 non-null  object\n",
            " 1   tweetid  10546 non-null  int64 \n",
            "dtypes: int64(1), object(1)\n",
            "memory usage: 164.9+ KB\n"
          ],
          "name": "stdout"
        }
      ]
    },
    {
      "cell_type": "markdown",
      "metadata": {
        "id": "2c-kbBsbS71c",
        "colab_type": "text"
      },
      "source": [
        "## Calculating basic metrics"
      ]
    },
    {
      "cell_type": "markdown",
      "metadata": {
        "id": "CP7ysR6gS71d",
        "colab_type": "text"
      },
      "source": [
        "### Word count"
      ]
    },
    {
      "cell_type": "code",
      "metadata": {
        "id": "7b3_JytTS71h",
        "colab_type": "code",
        "colab": {
          "base_uri": "https://localhost:8080/",
          "height": 191
        },
        "outputId": "97b9c1eb-1e77-4def-88db-8d4e0d0dc5b8"
      },
      "source": [
        "train_tweets['word_count'] = train_tweets['message'].apply(lambda tweet: len(tweet.split()))\n",
        "train_tweets.head()"
      ],
      "execution_count": 9,
      "outputs": [
        {
          "output_type": "execute_result",
          "data": {
            "text/html": [
              "<div>\n",
              "<style scoped>\n",
              "    .dataframe tbody tr th:only-of-type {\n",
              "        vertical-align: middle;\n",
              "    }\n",
              "\n",
              "    .dataframe tbody tr th {\n",
              "        vertical-align: top;\n",
              "    }\n",
              "\n",
              "    .dataframe thead th {\n",
              "        text-align: right;\n",
              "    }\n",
              "</style>\n",
              "<table border=\"1\" class=\"dataframe\">\n",
              "  <thead>\n",
              "    <tr style=\"text-align: right;\">\n",
              "      <th></th>\n",
              "      <th>sentiment</th>\n",
              "      <th>message</th>\n",
              "      <th>tweetid</th>\n",
              "      <th>word_count</th>\n",
              "    </tr>\n",
              "  </thead>\n",
              "  <tbody>\n",
              "    <tr>\n",
              "      <th>0</th>\n",
              "      <td>1</td>\n",
              "      <td>PolySciMajor EPA chief doesn't think carbon di...</td>\n",
              "      <td>625221</td>\n",
              "      <td>19</td>\n",
              "    </tr>\n",
              "    <tr>\n",
              "      <th>1</th>\n",
              "      <td>1</td>\n",
              "      <td>It's not like we lack evidence of anthropogeni...</td>\n",
              "      <td>126103</td>\n",
              "      <td>10</td>\n",
              "    </tr>\n",
              "    <tr>\n",
              "      <th>2</th>\n",
              "      <td>2</td>\n",
              "      <td>RT @RawStory: Researchers say we have three ye...</td>\n",
              "      <td>698562</td>\n",
              "      <td>19</td>\n",
              "    </tr>\n",
              "    <tr>\n",
              "      <th>3</th>\n",
              "      <td>1</td>\n",
              "      <td>#TodayinMaker# WIRED : 2016 was a pivotal year...</td>\n",
              "      <td>573736</td>\n",
              "      <td>15</td>\n",
              "    </tr>\n",
              "    <tr>\n",
              "      <th>4</th>\n",
              "      <td>1</td>\n",
              "      <td>RT @SoyNovioDeTodas: It's 2016, and a racist, ...</td>\n",
              "      <td>466954</td>\n",
              "      <td>18</td>\n",
              "    </tr>\n",
              "  </tbody>\n",
              "</table>\n",
              "</div>"
            ],
            "text/plain": [
              "   sentiment  ... word_count\n",
              "0          1  ...         19\n",
              "1          1  ...         10\n",
              "2          2  ...         19\n",
              "3          1  ...         15\n",
              "4          1  ...         18\n",
              "\n",
              "[5 rows x 4 columns]"
            ]
          },
          "metadata": {
            "tags": []
          },
          "execution_count": 9
        }
      ]
    },
    {
      "cell_type": "markdown",
      "metadata": {
        "id": "fb9NNNCqS71l",
        "colab_type": "text"
      },
      "source": [
        "### Character count"
      ]
    },
    {
      "cell_type": "code",
      "metadata": {
        "id": "B-EssY7jS71m",
        "colab_type": "code",
        "colab": {
          "base_uri": "https://localhost:8080/",
          "height": 191
        },
        "outputId": "d7b9d186-dc00-491a-92e9-3cd69558e004"
      },
      "source": [
        "train_tweets['char_count'] = train_tweets['message'].apply(lambda tweet: sum([len(word) for word in tweet.split()]))\n",
        "train_tweets.head()"
      ],
      "execution_count": 10,
      "outputs": [
        {
          "output_type": "execute_result",
          "data": {
            "text/html": [
              "<div>\n",
              "<style scoped>\n",
              "    .dataframe tbody tr th:only-of-type {\n",
              "        vertical-align: middle;\n",
              "    }\n",
              "\n",
              "    .dataframe tbody tr th {\n",
              "        vertical-align: top;\n",
              "    }\n",
              "\n",
              "    .dataframe thead th {\n",
              "        text-align: right;\n",
              "    }\n",
              "</style>\n",
              "<table border=\"1\" class=\"dataframe\">\n",
              "  <thead>\n",
              "    <tr style=\"text-align: right;\">\n",
              "      <th></th>\n",
              "      <th>sentiment</th>\n",
              "      <th>message</th>\n",
              "      <th>tweetid</th>\n",
              "      <th>word_count</th>\n",
              "      <th>char_count</th>\n",
              "    </tr>\n",
              "  </thead>\n",
              "  <tbody>\n",
              "    <tr>\n",
              "      <th>0</th>\n",
              "      <td>1</td>\n",
              "      <td>PolySciMajor EPA chief doesn't think carbon di...</td>\n",
              "      <td>625221</td>\n",
              "      <td>19</td>\n",
              "      <td>122</td>\n",
              "    </tr>\n",
              "    <tr>\n",
              "      <th>1</th>\n",
              "      <td>1</td>\n",
              "      <td>It's not like we lack evidence of anthropogeni...</td>\n",
              "      <td>126103</td>\n",
              "      <td>10</td>\n",
              "      <td>53</td>\n",
              "    </tr>\n",
              "    <tr>\n",
              "      <th>2</th>\n",
              "      <td>2</td>\n",
              "      <td>RT @RawStory: Researchers say we have three ye...</td>\n",
              "      <td>698562</td>\n",
              "      <td>19</td>\n",
              "      <td>122</td>\n",
              "    </tr>\n",
              "    <tr>\n",
              "      <th>3</th>\n",
              "      <td>1</td>\n",
              "      <td>#TodayinMaker# WIRED : 2016 was a pivotal year...</td>\n",
              "      <td>573736</td>\n",
              "      <td>15</td>\n",
              "      <td>85</td>\n",
              "    </tr>\n",
              "    <tr>\n",
              "      <th>4</th>\n",
              "      <td>1</td>\n",
              "      <td>RT @SoyNovioDeTodas: It's 2016, and a racist, ...</td>\n",
              "      <td>466954</td>\n",
              "      <td>18</td>\n",
              "      <td>105</td>\n",
              "    </tr>\n",
              "  </tbody>\n",
              "</table>\n",
              "</div>"
            ],
            "text/plain": [
              "   sentiment  ... char_count\n",
              "0          1  ...        122\n",
              "1          1  ...         53\n",
              "2          2  ...        122\n",
              "3          1  ...         85\n",
              "4          1  ...        105\n",
              "\n",
              "[5 rows x 5 columns]"
            ]
          },
          "metadata": {
            "tags": []
          },
          "execution_count": 10
        }
      ]
    },
    {
      "cell_type": "markdown",
      "metadata": {
        "id": "HtMva64fS71t",
        "colab_type": "text"
      },
      "source": [
        "### Average word length"
      ]
    },
    {
      "cell_type": "code",
      "metadata": {
        "id": "ETujvk9KS71u",
        "colab_type": "code",
        "colab": {
          "base_uri": "https://localhost:8080/",
          "height": 0
        },
        "outputId": "42c767ed-780f-4ef2-9167-f2d48e75f35c"
      },
      "source": [
        "train_tweets['average_word_length'] = train_tweets['message'].apply(lambda tweet: sum([len(word) for word in tweet.split()]) / len(tweet.split()))\n",
        "train_tweets.head()"
      ],
      "execution_count": 11,
      "outputs": [
        {
          "output_type": "execute_result",
          "data": {
            "text/html": [
              "<div>\n",
              "<style scoped>\n",
              "    .dataframe tbody tr th:only-of-type {\n",
              "        vertical-align: middle;\n",
              "    }\n",
              "\n",
              "    .dataframe tbody tr th {\n",
              "        vertical-align: top;\n",
              "    }\n",
              "\n",
              "    .dataframe thead th {\n",
              "        text-align: right;\n",
              "    }\n",
              "</style>\n",
              "<table border=\"1\" class=\"dataframe\">\n",
              "  <thead>\n",
              "    <tr style=\"text-align: right;\">\n",
              "      <th></th>\n",
              "      <th>sentiment</th>\n",
              "      <th>message</th>\n",
              "      <th>tweetid</th>\n",
              "      <th>word_count</th>\n",
              "      <th>char_count</th>\n",
              "      <th>average_word_length</th>\n",
              "    </tr>\n",
              "  </thead>\n",
              "  <tbody>\n",
              "    <tr>\n",
              "      <th>0</th>\n",
              "      <td>1</td>\n",
              "      <td>PolySciMajor EPA chief doesn't think carbon di...</td>\n",
              "      <td>625221</td>\n",
              "      <td>19</td>\n",
              "      <td>122</td>\n",
              "      <td>6.421053</td>\n",
              "    </tr>\n",
              "    <tr>\n",
              "      <th>1</th>\n",
              "      <td>1</td>\n",
              "      <td>It's not like we lack evidence of anthropogeni...</td>\n",
              "      <td>126103</td>\n",
              "      <td>10</td>\n",
              "      <td>53</td>\n",
              "      <td>5.300000</td>\n",
              "    </tr>\n",
              "    <tr>\n",
              "      <th>2</th>\n",
              "      <td>2</td>\n",
              "      <td>RT @RawStory: Researchers say we have three ye...</td>\n",
              "      <td>698562</td>\n",
              "      <td>19</td>\n",
              "      <td>122</td>\n",
              "      <td>6.421053</td>\n",
              "    </tr>\n",
              "    <tr>\n",
              "      <th>3</th>\n",
              "      <td>1</td>\n",
              "      <td>#TodayinMaker# WIRED : 2016 was a pivotal year...</td>\n",
              "      <td>573736</td>\n",
              "      <td>15</td>\n",
              "      <td>85</td>\n",
              "      <td>5.666667</td>\n",
              "    </tr>\n",
              "    <tr>\n",
              "      <th>4</th>\n",
              "      <td>1</td>\n",
              "      <td>RT @SoyNovioDeTodas: It's 2016, and a racist, ...</td>\n",
              "      <td>466954</td>\n",
              "      <td>18</td>\n",
              "      <td>105</td>\n",
              "      <td>5.833333</td>\n",
              "    </tr>\n",
              "  </tbody>\n",
              "</table>\n",
              "</div>"
            ],
            "text/plain": [
              "   sentiment  ... average_word_length\n",
              "0          1  ...            6.421053\n",
              "1          1  ...            5.300000\n",
              "2          2  ...            6.421053\n",
              "3          1  ...            5.666667\n",
              "4          1  ...            5.833333\n",
              "\n",
              "[5 rows x 6 columns]"
            ]
          },
          "metadata": {
            "tags": []
          },
          "execution_count": 11
        }
      ]
    },
    {
      "cell_type": "markdown",
      "metadata": {
        "id": "m_3-DoO0S712",
        "colab_type": "text"
      },
      "source": [
        "### Stopword count"
      ]
    },
    {
      "cell_type": "code",
      "metadata": {
        "id": "928Sp-roS714",
        "colab_type": "code",
        "colab": {
          "base_uri": "https://localhost:8080/",
          "height": 0
        },
        "outputId": "8c693e7d-64d3-4dd6-92d4-9b1c4e9c60b3"
      },
      "source": [
        "train_tweets['stopword_count'] = train_tweets['message'].apply(lambda tweet: len([word for word in tweet.split() if word in STOP_WORDS]))\n",
        "train_tweets.head()"
      ],
      "execution_count": 12,
      "outputs": [
        {
          "output_type": "execute_result",
          "data": {
            "text/html": [
              "<div>\n",
              "<style scoped>\n",
              "    .dataframe tbody tr th:only-of-type {\n",
              "        vertical-align: middle;\n",
              "    }\n",
              "\n",
              "    .dataframe tbody tr th {\n",
              "        vertical-align: top;\n",
              "    }\n",
              "\n",
              "    .dataframe thead th {\n",
              "        text-align: right;\n",
              "    }\n",
              "</style>\n",
              "<table border=\"1\" class=\"dataframe\">\n",
              "  <thead>\n",
              "    <tr style=\"text-align: right;\">\n",
              "      <th></th>\n",
              "      <th>sentiment</th>\n",
              "      <th>message</th>\n",
              "      <th>tweetid</th>\n",
              "      <th>word_count</th>\n",
              "      <th>char_count</th>\n",
              "      <th>average_word_length</th>\n",
              "      <th>stopword_count</th>\n",
              "    </tr>\n",
              "  </thead>\n",
              "  <tbody>\n",
              "    <tr>\n",
              "      <th>0</th>\n",
              "      <td>1</td>\n",
              "      <td>PolySciMajor EPA chief doesn't think carbon di...</td>\n",
              "      <td>625221</td>\n",
              "      <td>19</td>\n",
              "      <td>122</td>\n",
              "      <td>6.421053</td>\n",
              "      <td>3</td>\n",
              "    </tr>\n",
              "    <tr>\n",
              "      <th>1</th>\n",
              "      <td>1</td>\n",
              "      <td>It's not like we lack evidence of anthropogeni...</td>\n",
              "      <td>126103</td>\n",
              "      <td>10</td>\n",
              "      <td>53</td>\n",
              "      <td>5.300000</td>\n",
              "      <td>3</td>\n",
              "    </tr>\n",
              "    <tr>\n",
              "      <th>2</th>\n",
              "      <td>2</td>\n",
              "      <td>RT @RawStory: Researchers say we have three ye...</td>\n",
              "      <td>698562</td>\n",
              "      <td>19</td>\n",
              "      <td>122</td>\n",
              "      <td>6.421053</td>\n",
              "      <td>8</td>\n",
              "    </tr>\n",
              "    <tr>\n",
              "      <th>3</th>\n",
              "      <td>1</td>\n",
              "      <td>#TodayinMaker# WIRED : 2016 was a pivotal year...</td>\n",
              "      <td>573736</td>\n",
              "      <td>15</td>\n",
              "      <td>85</td>\n",
              "      <td>5.666667</td>\n",
              "      <td>5</td>\n",
              "    </tr>\n",
              "    <tr>\n",
              "      <th>4</th>\n",
              "      <td>1</td>\n",
              "      <td>RT @SoyNovioDeTodas: It's 2016, and a racist, ...</td>\n",
              "      <td>466954</td>\n",
              "      <td>18</td>\n",
              "      <td>105</td>\n",
              "      <td>5.833333</td>\n",
              "      <td>5</td>\n",
              "    </tr>\n",
              "  </tbody>\n",
              "</table>\n",
              "</div>"
            ],
            "text/plain": [
              "   sentiment  ... stopword_count\n",
              "0          1  ...              3\n",
              "1          1  ...              3\n",
              "2          2  ...              8\n",
              "3          1  ...              5\n",
              "4          1  ...              5\n",
              "\n",
              "[5 rows x 7 columns]"
            ]
          },
          "metadata": {
            "tags": []
          },
          "execution_count": 12
        }
      ]
    },
    {
      "cell_type": "markdown",
      "metadata": {
        "id": "0nMMz7-nS718",
        "colab_type": "text"
      },
      "source": [
        "### #Hashtag and @Mention counts"
      ]
    },
    {
      "cell_type": "code",
      "metadata": {
        "id": "6dAzps0cS719",
        "colab_type": "code",
        "colab": {
          "base_uri": "https://localhost:8080/",
          "height": 0
        },
        "outputId": "4e839ada-b38c-4769-dabd-0e2204336303"
      },
      "source": [
        "train_tweets['hastag_count'] = train_tweets['message'].apply(lambda tweet: len([word for word in tweet.split() if word.startswith('#')]))\n",
        "train_tweets['mention_count'] = train_tweets['message'].apply(lambda tweet: len([word for word in tweet.split() if word.startswith('@')]))\n",
        "train_tweets.head()"
      ],
      "execution_count": 13,
      "outputs": [
        {
          "output_type": "execute_result",
          "data": {
            "text/html": [
              "<div>\n",
              "<style scoped>\n",
              "    .dataframe tbody tr th:only-of-type {\n",
              "        vertical-align: middle;\n",
              "    }\n",
              "\n",
              "    .dataframe tbody tr th {\n",
              "        vertical-align: top;\n",
              "    }\n",
              "\n",
              "    .dataframe thead th {\n",
              "        text-align: right;\n",
              "    }\n",
              "</style>\n",
              "<table border=\"1\" class=\"dataframe\">\n",
              "  <thead>\n",
              "    <tr style=\"text-align: right;\">\n",
              "      <th></th>\n",
              "      <th>sentiment</th>\n",
              "      <th>message</th>\n",
              "      <th>tweetid</th>\n",
              "      <th>word_count</th>\n",
              "      <th>char_count</th>\n",
              "      <th>average_word_length</th>\n",
              "      <th>stopword_count</th>\n",
              "      <th>hastag_count</th>\n",
              "      <th>mention_count</th>\n",
              "    </tr>\n",
              "  </thead>\n",
              "  <tbody>\n",
              "    <tr>\n",
              "      <th>0</th>\n",
              "      <td>1</td>\n",
              "      <td>PolySciMajor EPA chief doesn't think carbon di...</td>\n",
              "      <td>625221</td>\n",
              "      <td>19</td>\n",
              "      <td>122</td>\n",
              "      <td>6.421053</td>\n",
              "      <td>3</td>\n",
              "      <td>0</td>\n",
              "      <td>1</td>\n",
              "    </tr>\n",
              "    <tr>\n",
              "      <th>1</th>\n",
              "      <td>1</td>\n",
              "      <td>It's not like we lack evidence of anthropogeni...</td>\n",
              "      <td>126103</td>\n",
              "      <td>10</td>\n",
              "      <td>53</td>\n",
              "      <td>5.300000</td>\n",
              "      <td>3</td>\n",
              "      <td>0</td>\n",
              "      <td>0</td>\n",
              "    </tr>\n",
              "    <tr>\n",
              "      <th>2</th>\n",
              "      <td>2</td>\n",
              "      <td>RT @RawStory: Researchers say we have three ye...</td>\n",
              "      <td>698562</td>\n",
              "      <td>19</td>\n",
              "      <td>122</td>\n",
              "      <td>6.421053</td>\n",
              "      <td>8</td>\n",
              "      <td>0</td>\n",
              "      <td>1</td>\n",
              "    </tr>\n",
              "    <tr>\n",
              "      <th>3</th>\n",
              "      <td>1</td>\n",
              "      <td>#TodayinMaker# WIRED : 2016 was a pivotal year...</td>\n",
              "      <td>573736</td>\n",
              "      <td>15</td>\n",
              "      <td>85</td>\n",
              "      <td>5.666667</td>\n",
              "      <td>5</td>\n",
              "      <td>1</td>\n",
              "      <td>0</td>\n",
              "    </tr>\n",
              "    <tr>\n",
              "      <th>4</th>\n",
              "      <td>1</td>\n",
              "      <td>RT @SoyNovioDeTodas: It's 2016, and a racist, ...</td>\n",
              "      <td>466954</td>\n",
              "      <td>18</td>\n",
              "      <td>105</td>\n",
              "      <td>5.833333</td>\n",
              "      <td>5</td>\n",
              "      <td>1</td>\n",
              "      <td>1</td>\n",
              "    </tr>\n",
              "  </tbody>\n",
              "</table>\n",
              "</div>"
            ],
            "text/plain": [
              "   sentiment  ... mention_count\n",
              "0          1  ...             1\n",
              "1          1  ...             0\n",
              "2          2  ...             1\n",
              "3          1  ...             0\n",
              "4          1  ...             1\n",
              "\n",
              "[5 rows x 9 columns]"
            ]
          },
          "metadata": {
            "tags": []
          },
          "execution_count": 13
        }
      ]
    },
    {
      "cell_type": "markdown",
      "metadata": {
        "id": "qMI2OKS3S72A",
        "colab_type": "text"
      },
      "source": [
        "## Preprocessing and data cleaning"
      ]
    },
    {
      "cell_type": "markdown",
      "metadata": {
        "id": "TygCOIBlS72A",
        "colab_type": "text"
      },
      "source": [
        "### Lower case conversion"
      ]
    },
    {
      "cell_type": "code",
      "metadata": {
        "id": "Mj10jXlLS72B",
        "colab_type": "code",
        "colab": {
          "base_uri": "https://localhost:8080/",
          "height": 0
        },
        "outputId": "03f6674d-2933-4065-d76e-bba30852a3e8"
      },
      "source": [
        "train_tweets['message'] = train_tweets['message'].apply(lambda tweet: tweet.lower())\n",
        "test_tweets['message'] = test_tweets['message'].apply(lambda tweet: tweet.lower())\n",
        "train_tweets.head()"
      ],
      "execution_count": 14,
      "outputs": [
        {
          "output_type": "execute_result",
          "data": {
            "text/html": [
              "<div>\n",
              "<style scoped>\n",
              "    .dataframe tbody tr th:only-of-type {\n",
              "        vertical-align: middle;\n",
              "    }\n",
              "\n",
              "    .dataframe tbody tr th {\n",
              "        vertical-align: top;\n",
              "    }\n",
              "\n",
              "    .dataframe thead th {\n",
              "        text-align: right;\n",
              "    }\n",
              "</style>\n",
              "<table border=\"1\" class=\"dataframe\">\n",
              "  <thead>\n",
              "    <tr style=\"text-align: right;\">\n",
              "      <th></th>\n",
              "      <th>sentiment</th>\n",
              "      <th>message</th>\n",
              "      <th>tweetid</th>\n",
              "      <th>word_count</th>\n",
              "      <th>char_count</th>\n",
              "      <th>average_word_length</th>\n",
              "      <th>stopword_count</th>\n",
              "      <th>hastag_count</th>\n",
              "      <th>mention_count</th>\n",
              "    </tr>\n",
              "  </thead>\n",
              "  <tbody>\n",
              "    <tr>\n",
              "      <th>0</th>\n",
              "      <td>1</td>\n",
              "      <td>polyscimajor epa chief doesn't think carbon di...</td>\n",
              "      <td>625221</td>\n",
              "      <td>19</td>\n",
              "      <td>122</td>\n",
              "      <td>6.421053</td>\n",
              "      <td>3</td>\n",
              "      <td>0</td>\n",
              "      <td>1</td>\n",
              "    </tr>\n",
              "    <tr>\n",
              "      <th>1</th>\n",
              "      <td>1</td>\n",
              "      <td>it's not like we lack evidence of anthropogeni...</td>\n",
              "      <td>126103</td>\n",
              "      <td>10</td>\n",
              "      <td>53</td>\n",
              "      <td>5.300000</td>\n",
              "      <td>3</td>\n",
              "      <td>0</td>\n",
              "      <td>0</td>\n",
              "    </tr>\n",
              "    <tr>\n",
              "      <th>2</th>\n",
              "      <td>2</td>\n",
              "      <td>rt @rawstory: researchers say we have three ye...</td>\n",
              "      <td>698562</td>\n",
              "      <td>19</td>\n",
              "      <td>122</td>\n",
              "      <td>6.421053</td>\n",
              "      <td>8</td>\n",
              "      <td>0</td>\n",
              "      <td>1</td>\n",
              "    </tr>\n",
              "    <tr>\n",
              "      <th>3</th>\n",
              "      <td>1</td>\n",
              "      <td>#todayinmaker# wired : 2016 was a pivotal year...</td>\n",
              "      <td>573736</td>\n",
              "      <td>15</td>\n",
              "      <td>85</td>\n",
              "      <td>5.666667</td>\n",
              "      <td>5</td>\n",
              "      <td>1</td>\n",
              "      <td>0</td>\n",
              "    </tr>\n",
              "    <tr>\n",
              "      <th>4</th>\n",
              "      <td>1</td>\n",
              "      <td>rt @soynoviodetodas: it's 2016, and a racist, ...</td>\n",
              "      <td>466954</td>\n",
              "      <td>18</td>\n",
              "      <td>105</td>\n",
              "      <td>5.833333</td>\n",
              "      <td>5</td>\n",
              "      <td>1</td>\n",
              "      <td>1</td>\n",
              "    </tr>\n",
              "  </tbody>\n",
              "</table>\n",
              "</div>"
            ],
            "text/plain": [
              "   sentiment  ... mention_count\n",
              "0          1  ...             1\n",
              "1          1  ...             0\n",
              "2          2  ...             1\n",
              "3          1  ...             0\n",
              "4          1  ...             1\n",
              "\n",
              "[5 rows x 9 columns]"
            ]
          },
          "metadata": {
            "tags": []
          },
          "execution_count": 14
        }
      ]
    },
    {
      "cell_type": "markdown",
      "metadata": {
        "id": "v7TYzxFWS72F",
        "colab_type": "text"
      },
      "source": [
        "### Expand word contractions"
      ]
    },
    {
      "cell_type": "code",
      "metadata": {
        "id": "9kmNYOjHS72G",
        "colab_type": "code",
        "colab": {}
      },
      "source": [
        ""
      ],
      "execution_count": 14,
      "outputs": []
    },
    {
      "cell_type": "markdown",
      "metadata": {
        "id": "px0nbxFLS72J",
        "colab_type": "text"
      },
      "source": [
        "### Email removal"
      ]
    },
    {
      "cell_type": "code",
      "metadata": {
        "id": "2RvJRz2nS72J",
        "colab_type": "code",
        "colab": {
          "base_uri": "https://localhost:8080/",
          "height": 0
        },
        "outputId": "98b0708b-0ec5-44b8-8509-fd11fe9f5fd8"
      },
      "source": [
        "train_tweets['message'] = train_tweets['message'].apply(lambda tweet: re.sub('[a-zA-Z0-9+._-]+@[a-zA-Z0-9._-]+\\.[a-zA-Z0-9_-]+', '', tweet))\n",
        "test_tweets['message'] = test_tweets['message'].apply(lambda tweet: re.sub('[a-zA-Z0-9+._-]+@[a-zA-Z0-9._-]+\\.[a-zA-Z0-9_-]+', '', tweet))\n",
        "train_tweets.head()"
      ],
      "execution_count": 15,
      "outputs": [
        {
          "output_type": "execute_result",
          "data": {
            "text/html": [
              "<div>\n",
              "<style scoped>\n",
              "    .dataframe tbody tr th:only-of-type {\n",
              "        vertical-align: middle;\n",
              "    }\n",
              "\n",
              "    .dataframe tbody tr th {\n",
              "        vertical-align: top;\n",
              "    }\n",
              "\n",
              "    .dataframe thead th {\n",
              "        text-align: right;\n",
              "    }\n",
              "</style>\n",
              "<table border=\"1\" class=\"dataframe\">\n",
              "  <thead>\n",
              "    <tr style=\"text-align: right;\">\n",
              "      <th></th>\n",
              "      <th>sentiment</th>\n",
              "      <th>message</th>\n",
              "      <th>tweetid</th>\n",
              "      <th>word_count</th>\n",
              "      <th>char_count</th>\n",
              "      <th>average_word_length</th>\n",
              "      <th>stopword_count</th>\n",
              "      <th>hastag_count</th>\n",
              "      <th>mention_count</th>\n",
              "    </tr>\n",
              "  </thead>\n",
              "  <tbody>\n",
              "    <tr>\n",
              "      <th>0</th>\n",
              "      <td>1</td>\n",
              "      <td>polyscimajor epa chief doesn't think carbon di...</td>\n",
              "      <td>625221</td>\n",
              "      <td>19</td>\n",
              "      <td>122</td>\n",
              "      <td>6.421053</td>\n",
              "      <td>3</td>\n",
              "      <td>0</td>\n",
              "      <td>1</td>\n",
              "    </tr>\n",
              "    <tr>\n",
              "      <th>1</th>\n",
              "      <td>1</td>\n",
              "      <td>it's not like we lack evidence of anthropogeni...</td>\n",
              "      <td>126103</td>\n",
              "      <td>10</td>\n",
              "      <td>53</td>\n",
              "      <td>5.300000</td>\n",
              "      <td>3</td>\n",
              "      <td>0</td>\n",
              "      <td>0</td>\n",
              "    </tr>\n",
              "    <tr>\n",
              "      <th>2</th>\n",
              "      <td>2</td>\n",
              "      <td>rt @rawstory: researchers say we have three ye...</td>\n",
              "      <td>698562</td>\n",
              "      <td>19</td>\n",
              "      <td>122</td>\n",
              "      <td>6.421053</td>\n",
              "      <td>8</td>\n",
              "      <td>0</td>\n",
              "      <td>1</td>\n",
              "    </tr>\n",
              "    <tr>\n",
              "      <th>3</th>\n",
              "      <td>1</td>\n",
              "      <td>#todayinmaker# wired : 2016 was a pivotal year...</td>\n",
              "      <td>573736</td>\n",
              "      <td>15</td>\n",
              "      <td>85</td>\n",
              "      <td>5.666667</td>\n",
              "      <td>5</td>\n",
              "      <td>1</td>\n",
              "      <td>0</td>\n",
              "    </tr>\n",
              "    <tr>\n",
              "      <th>4</th>\n",
              "      <td>1</td>\n",
              "      <td>rt @soynoviodetodas: it's 2016, and a racist, ...</td>\n",
              "      <td>466954</td>\n",
              "      <td>18</td>\n",
              "      <td>105</td>\n",
              "      <td>5.833333</td>\n",
              "      <td>5</td>\n",
              "      <td>1</td>\n",
              "      <td>1</td>\n",
              "    </tr>\n",
              "  </tbody>\n",
              "</table>\n",
              "</div>"
            ],
            "text/plain": [
              "   sentiment  ... mention_count\n",
              "0          1  ...             1\n",
              "1          1  ...             0\n",
              "2          2  ...             1\n",
              "3          1  ...             0\n",
              "4          1  ...             1\n",
              "\n",
              "[5 rows x 9 columns]"
            ]
          },
          "metadata": {
            "tags": []
          },
          "execution_count": 15
        }
      ]
    },
    {
      "cell_type": "markdown",
      "metadata": {
        "id": "LhhC97vTS72O",
        "colab_type": "text"
      },
      "source": [
        "### URL removal"
      ]
    },
    {
      "cell_type": "code",
      "metadata": {
        "id": "ZYz3KmlQS72P",
        "colab_type": "code",
        "colab": {}
      },
      "source": [
        "train_tweets['message'] = train_tweets['message'].apply(lambda tweet: re.sub(r'(http|ftp|https)://([\\w_-]+(?:(?:\\.[\\w_-]+)+))([\\w.,@?^=%&:/~+#-]*[\\w@?^=%&/~+#-])?', '', tweet))\n",
        "test_tweets['message'] = test_tweets['message'].apply(lambda tweet: re.sub(r'(http|ftp|https)://([\\w_-]+(?:(?:\\.[\\w_-]+)+))([\\w.,@?^=%&:/~+#-]*[\\w@?^=%&/~+#-])?', '', tweet))"
      ],
      "execution_count": 16,
      "outputs": []
    },
    {
      "cell_type": "markdown",
      "metadata": {
        "id": "Fqcl6tJxS72S",
        "colab_type": "text"
      },
      "source": [
        "### Remove RT and mentions"
      ]
    },
    {
      "cell_type": "code",
      "metadata": {
        "id": "f9Nq4tyNS72S",
        "colab_type": "code",
        "colab": {
          "base_uri": "https://localhost:8080/",
          "height": 0
        },
        "outputId": "abd95c86-7105-4324-df8a-ebd7fc543b1a"
      },
      "source": [
        "train_tweets['message'] = train_tweets['message'].apply(lambda tweet: re.sub('rt', '', tweet))\n",
        "test_tweets['message'] = test_tweets['message'].apply(lambda tweet: re.sub('rt', '', tweet))\n",
        "train_tweets.head()"
      ],
      "execution_count": 17,
      "outputs": [
        {
          "output_type": "execute_result",
          "data": {
            "text/html": [
              "<div>\n",
              "<style scoped>\n",
              "    .dataframe tbody tr th:only-of-type {\n",
              "        vertical-align: middle;\n",
              "    }\n",
              "\n",
              "    .dataframe tbody tr th {\n",
              "        vertical-align: top;\n",
              "    }\n",
              "\n",
              "    .dataframe thead th {\n",
              "        text-align: right;\n",
              "    }\n",
              "</style>\n",
              "<table border=\"1\" class=\"dataframe\">\n",
              "  <thead>\n",
              "    <tr style=\"text-align: right;\">\n",
              "      <th></th>\n",
              "      <th>sentiment</th>\n",
              "      <th>message</th>\n",
              "      <th>tweetid</th>\n",
              "      <th>word_count</th>\n",
              "      <th>char_count</th>\n",
              "      <th>average_word_length</th>\n",
              "      <th>stopword_count</th>\n",
              "      <th>hastag_count</th>\n",
              "      <th>mention_count</th>\n",
              "    </tr>\n",
              "  </thead>\n",
              "  <tbody>\n",
              "    <tr>\n",
              "      <th>0</th>\n",
              "      <td>1</td>\n",
              "      <td>polyscimajor epa chief doesn't think carbon di...</td>\n",
              "      <td>625221</td>\n",
              "      <td>19</td>\n",
              "      <td>122</td>\n",
              "      <td>6.421053</td>\n",
              "      <td>3</td>\n",
              "      <td>0</td>\n",
              "      <td>1</td>\n",
              "    </tr>\n",
              "    <tr>\n",
              "      <th>1</th>\n",
              "      <td>1</td>\n",
              "      <td>it's not like we lack evidence of anthropogeni...</td>\n",
              "      <td>126103</td>\n",
              "      <td>10</td>\n",
              "      <td>53</td>\n",
              "      <td>5.300000</td>\n",
              "      <td>3</td>\n",
              "      <td>0</td>\n",
              "      <td>0</td>\n",
              "    </tr>\n",
              "    <tr>\n",
              "      <th>2</th>\n",
              "      <td>2</td>\n",
              "      <td>@rawstory: researchers say we have three year...</td>\n",
              "      <td>698562</td>\n",
              "      <td>19</td>\n",
              "      <td>122</td>\n",
              "      <td>6.421053</td>\n",
              "      <td>8</td>\n",
              "      <td>0</td>\n",
              "      <td>1</td>\n",
              "    </tr>\n",
              "    <tr>\n",
              "      <th>3</th>\n",
              "      <td>1</td>\n",
              "      <td>#todayinmaker# wired : 2016 was a pivotal year...</td>\n",
              "      <td>573736</td>\n",
              "      <td>15</td>\n",
              "      <td>85</td>\n",
              "      <td>5.666667</td>\n",
              "      <td>5</td>\n",
              "      <td>1</td>\n",
              "      <td>0</td>\n",
              "    </tr>\n",
              "    <tr>\n",
              "      <th>4</th>\n",
              "      <td>1</td>\n",
              "      <td>@soynoviodetodas: it's 2016, and a racist, se...</td>\n",
              "      <td>466954</td>\n",
              "      <td>18</td>\n",
              "      <td>105</td>\n",
              "      <td>5.833333</td>\n",
              "      <td>5</td>\n",
              "      <td>1</td>\n",
              "      <td>1</td>\n",
              "    </tr>\n",
              "  </tbody>\n",
              "</table>\n",
              "</div>"
            ],
            "text/plain": [
              "   sentiment  ... mention_count\n",
              "0          1  ...             1\n",
              "1          1  ...             0\n",
              "2          2  ...             1\n",
              "3          1  ...             0\n",
              "4          1  ...             1\n",
              "\n",
              "[5 rows x 9 columns]"
            ]
          },
          "metadata": {
            "tags": []
          },
          "execution_count": 17
        }
      ]
    },
    {
      "cell_type": "code",
      "metadata": {
        "id": "yFedjeQwS72V",
        "colab_type": "code",
        "colab": {}
      },
      "source": [
        "# Remove @mentions"
      ],
      "execution_count": 18,
      "outputs": []
    },
    {
      "cell_type": "markdown",
      "metadata": {
        "id": "JVSKVgOwS72Y",
        "colab_type": "text"
      },
      "source": [
        "### Removal of punctuations and special characters"
      ]
    },
    {
      "cell_type": "code",
      "metadata": {
        "id": "13znJhvwS72Z",
        "colab_type": "code",
        "colab": {}
      },
      "source": [
        "train_tweets['message'] = train_tweets['message'].apply(lambda tweet: re.sub('[^a-z A-Z 0-9-]', '', tweet))\n",
        "test_tweets['message'] = test_tweets['message'].apply(lambda tweet: re.sub('[^a-z A-Z 0-9-]', '', tweet))"
      ],
      "execution_count": 19,
      "outputs": []
    },
    {
      "cell_type": "markdown",
      "metadata": {
        "id": "Cq1zDWwDS72c",
        "colab_type": "text"
      },
      "source": [
        "### Removal of digits"
      ]
    },
    {
      "cell_type": "code",
      "metadata": {
        "id": "lbHOuPOOS72d",
        "colab_type": "code",
        "colab": {
          "base_uri": "https://localhost:8080/",
          "height": 191
        },
        "outputId": "08b663f3-5dae-4190-e516-bb130330386b"
      },
      "source": [
        "train_tweets['message'] = train_tweets['message'].apply(lambda tweet: re.sub('[\\d]+', '', tweet))\n",
        "test_tweets['message'] = test_tweets['message'].apply(lambda tweet: re.sub('[\\d]+', '', tweet))\n",
        "train_tweets.head()"
      ],
      "execution_count": 20,
      "outputs": [
        {
          "output_type": "execute_result",
          "data": {
            "text/html": [
              "<div>\n",
              "<style scoped>\n",
              "    .dataframe tbody tr th:only-of-type {\n",
              "        vertical-align: middle;\n",
              "    }\n",
              "\n",
              "    .dataframe tbody tr th {\n",
              "        vertical-align: top;\n",
              "    }\n",
              "\n",
              "    .dataframe thead th {\n",
              "        text-align: right;\n",
              "    }\n",
              "</style>\n",
              "<table border=\"1\" class=\"dataframe\">\n",
              "  <thead>\n",
              "    <tr style=\"text-align: right;\">\n",
              "      <th></th>\n",
              "      <th>sentiment</th>\n",
              "      <th>message</th>\n",
              "      <th>tweetid</th>\n",
              "      <th>word_count</th>\n",
              "      <th>char_count</th>\n",
              "      <th>average_word_length</th>\n",
              "      <th>stopword_count</th>\n",
              "      <th>hastag_count</th>\n",
              "      <th>mention_count</th>\n",
              "    </tr>\n",
              "  </thead>\n",
              "  <tbody>\n",
              "    <tr>\n",
              "      <th>0</th>\n",
              "      <td>1</td>\n",
              "      <td>polyscimajor epa chief doesnt think carbon dio...</td>\n",
              "      <td>625221</td>\n",
              "      <td>19</td>\n",
              "      <td>122</td>\n",
              "      <td>6.421053</td>\n",
              "      <td>3</td>\n",
              "      <td>0</td>\n",
              "      <td>1</td>\n",
              "    </tr>\n",
              "    <tr>\n",
              "      <th>1</th>\n",
              "      <td>1</td>\n",
              "      <td>its not like we lack evidence of anthropogenic...</td>\n",
              "      <td>126103</td>\n",
              "      <td>10</td>\n",
              "      <td>53</td>\n",
              "      <td>5.300000</td>\n",
              "      <td>3</td>\n",
              "      <td>0</td>\n",
              "      <td>0</td>\n",
              "    </tr>\n",
              "    <tr>\n",
              "      <th>2</th>\n",
              "      <td>2</td>\n",
              "      <td>rawstory researchers say we have three years ...</td>\n",
              "      <td>698562</td>\n",
              "      <td>19</td>\n",
              "      <td>122</td>\n",
              "      <td>6.421053</td>\n",
              "      <td>8</td>\n",
              "      <td>0</td>\n",
              "      <td>1</td>\n",
              "    </tr>\n",
              "    <tr>\n",
              "      <th>3</th>\n",
              "      <td>1</td>\n",
              "      <td>todayinmaker wired   was a pivotal year in the...</td>\n",
              "      <td>573736</td>\n",
              "      <td>15</td>\n",
              "      <td>85</td>\n",
              "      <td>5.666667</td>\n",
              "      <td>5</td>\n",
              "      <td>1</td>\n",
              "      <td>0</td>\n",
              "    </tr>\n",
              "    <tr>\n",
              "      <th>4</th>\n",
              "      <td>1</td>\n",
              "      <td>soynoviodetodas its  and a racist sexist clim...</td>\n",
              "      <td>466954</td>\n",
              "      <td>18</td>\n",
              "      <td>105</td>\n",
              "      <td>5.833333</td>\n",
              "      <td>5</td>\n",
              "      <td>1</td>\n",
              "      <td>1</td>\n",
              "    </tr>\n",
              "  </tbody>\n",
              "</table>\n",
              "</div>"
            ],
            "text/plain": [
              "   sentiment  ... mention_count\n",
              "0          1  ...             1\n",
              "1          1  ...             0\n",
              "2          2  ...             1\n",
              "3          1  ...             0\n",
              "4          1  ...             1\n",
              "\n",
              "[5 rows x 9 columns]"
            ]
          },
          "metadata": {
            "tags": []
          },
          "execution_count": 20
        }
      ]
    },
    {
      "cell_type": "markdown",
      "metadata": {
        "id": "6y-4wmJNS72h",
        "colab_type": "text"
      },
      "source": [
        "### Remove multiple spaces"
      ]
    },
    {
      "cell_type": "code",
      "metadata": {
        "id": "5ebsNkMrS72h",
        "colab_type": "code",
        "colab": {}
      },
      "source": [
        "train_tweets['message'] = train_tweets['message'].apply(lambda tweet: ' '.join(tweet.split()))\n",
        "test_tweets['message'] = test_tweets['message'].apply(lambda tweet: ' '.join(tweet.split()))"
      ],
      "execution_count": 21,
      "outputs": []
    },
    {
      "cell_type": "markdown",
      "metadata": {
        "id": "C_iUEwXIS727",
        "colab_type": "text"
      },
      "source": [
        "### Stop word removal"
      ]
    },
    {
      "cell_type": "code",
      "metadata": {
        "id": "XHbBLch-S72_",
        "colab_type": "code",
        "colab": {
          "base_uri": "https://localhost:8080/",
          "height": 191
        },
        "outputId": "cc4b7469-94e3-4ec8-a9be-9c6eaab98ba2"
      },
      "source": [
        "train_tweets['message'] = train_tweets['message'].apply(lambda tweet: ' '.join([word for word in tweet.split() if word not in STOP_WORDS]))\n",
        "test_tweets['message'] = test_tweets['message'].apply(lambda tweet: ' '.join([word for word in tweet.split() if word not in STOP_WORDS]))\n",
        "train_tweets.head()"
      ],
      "execution_count": 22,
      "outputs": [
        {
          "output_type": "execute_result",
          "data": {
            "text/html": [
              "<div>\n",
              "<style scoped>\n",
              "    .dataframe tbody tr th:only-of-type {\n",
              "        vertical-align: middle;\n",
              "    }\n",
              "\n",
              "    .dataframe tbody tr th {\n",
              "        vertical-align: top;\n",
              "    }\n",
              "\n",
              "    .dataframe thead th {\n",
              "        text-align: right;\n",
              "    }\n",
              "</style>\n",
              "<table border=\"1\" class=\"dataframe\">\n",
              "  <thead>\n",
              "    <tr style=\"text-align: right;\">\n",
              "      <th></th>\n",
              "      <th>sentiment</th>\n",
              "      <th>message</th>\n",
              "      <th>tweetid</th>\n",
              "      <th>word_count</th>\n",
              "      <th>char_count</th>\n",
              "      <th>average_word_length</th>\n",
              "      <th>stopword_count</th>\n",
              "      <th>hastag_count</th>\n",
              "      <th>mention_count</th>\n",
              "    </tr>\n",
              "  </thead>\n",
              "  <tbody>\n",
              "    <tr>\n",
              "      <th>0</th>\n",
              "      <td>1</td>\n",
              "      <td>polyscimajor epa chief doesnt think carbon dio...</td>\n",
              "      <td>625221</td>\n",
              "      <td>19</td>\n",
              "      <td>122</td>\n",
              "      <td>6.421053</td>\n",
              "      <td>3</td>\n",
              "      <td>0</td>\n",
              "      <td>1</td>\n",
              "    </tr>\n",
              "    <tr>\n",
              "      <th>1</th>\n",
              "      <td>1</td>\n",
              "      <td>like lack evidence anthropogenic global warming</td>\n",
              "      <td>126103</td>\n",
              "      <td>10</td>\n",
              "      <td>53</td>\n",
              "      <td>5.300000</td>\n",
              "      <td>3</td>\n",
              "      <td>0</td>\n",
              "      <td>0</td>\n",
              "    </tr>\n",
              "    <tr>\n",
              "      <th>2</th>\n",
              "      <td>2</td>\n",
              "      <td>rawstory researchers years act climate change ...</td>\n",
              "      <td>698562</td>\n",
              "      <td>19</td>\n",
              "      <td>122</td>\n",
              "      <td>6.421053</td>\n",
              "      <td>8</td>\n",
              "      <td>0</td>\n",
              "      <td>1</td>\n",
              "    </tr>\n",
              "    <tr>\n",
              "      <th>3</th>\n",
              "      <td>1</td>\n",
              "      <td>todayinmaker wired pivotal year war climate ch...</td>\n",
              "      <td>573736</td>\n",
              "      <td>15</td>\n",
              "      <td>85</td>\n",
              "      <td>5.666667</td>\n",
              "      <td>5</td>\n",
              "      <td>1</td>\n",
              "      <td>0</td>\n",
              "    </tr>\n",
              "    <tr>\n",
              "      <th>4</th>\n",
              "      <td>1</td>\n",
              "      <td>soynoviodetodas racist sexist climate change d...</td>\n",
              "      <td>466954</td>\n",
              "      <td>18</td>\n",
              "      <td>105</td>\n",
              "      <td>5.833333</td>\n",
              "      <td>5</td>\n",
              "      <td>1</td>\n",
              "      <td>1</td>\n",
              "    </tr>\n",
              "  </tbody>\n",
              "</table>\n",
              "</div>"
            ],
            "text/plain": [
              "   sentiment  ... mention_count\n",
              "0          1  ...             1\n",
              "1          1  ...             0\n",
              "2          2  ...             1\n",
              "3          1  ...             0\n",
              "4          1  ...             1\n",
              "\n",
              "[5 rows x 9 columns]"
            ]
          },
          "metadata": {
            "tags": []
          },
          "execution_count": 22
        }
      ]
    },
    {
      "cell_type": "markdown",
      "metadata": {
        "id": "3lmwV83SS73I",
        "colab_type": "text"
      },
      "source": [
        "### Lemmatize Tweets"
      ]
    },
    {
      "cell_type": "code",
      "metadata": {
        "id": "xzcBQGBnS73J",
        "colab_type": "code",
        "colab": {
          "base_uri": "https://localhost:8080/",
          "height": 191
        },
        "outputId": "6377d9f1-3ac6-4600-9033-340ac6cb6d2b"
      },
      "source": [
        "\n",
        "\n",
        "def lemmatize_tweet(tweet):\n",
        "    lemmas = []\n",
        "    doc = nlp(tweet)\n",
        "    document_tweets.append(doc)\n",
        "    for token in doc:\n",
        "        lemma = str(token.lemma_)\n",
        "        if token.lemma_ == '-PRON-' or token.lemma_ == 'be':\n",
        "            lemma = token.text\n",
        "        lemmas.append(lemma)\n",
        "        \n",
        "    return ' '.join(lemmas)\n",
        "\n",
        "train_tweets['message'] = train_tweets['message'].apply(lemmatize_tweet)\n",
        "test_tweets['message'] = test_tweets['message'].apply(lemmatize_tweet)\n",
        "train_tweets.head()"
      ],
      "execution_count": 23,
      "outputs": [
        {
          "output_type": "execute_result",
          "data": {
            "text/html": [
              "<div>\n",
              "<style scoped>\n",
              "    .dataframe tbody tr th:only-of-type {\n",
              "        vertical-align: middle;\n",
              "    }\n",
              "\n",
              "    .dataframe tbody tr th {\n",
              "        vertical-align: top;\n",
              "    }\n",
              "\n",
              "    .dataframe thead th {\n",
              "        text-align: right;\n",
              "    }\n",
              "</style>\n",
              "<table border=\"1\" class=\"dataframe\">\n",
              "  <thead>\n",
              "    <tr style=\"text-align: right;\">\n",
              "      <th></th>\n",
              "      <th>sentiment</th>\n",
              "      <th>message</th>\n",
              "      <th>tweetid</th>\n",
              "      <th>word_count</th>\n",
              "      <th>char_count</th>\n",
              "      <th>average_word_length</th>\n",
              "      <th>stopword_count</th>\n",
              "      <th>hastag_count</th>\n",
              "      <th>mention_count</th>\n",
              "    </tr>\n",
              "  </thead>\n",
              "  <tbody>\n",
              "    <tr>\n",
              "      <th>0</th>\n",
              "      <td>1</td>\n",
              "      <td>polyscimajor epa chief do not think carbon dio...</td>\n",
              "      <td>625221</td>\n",
              "      <td>19</td>\n",
              "      <td>122</td>\n",
              "      <td>6.421053</td>\n",
              "      <td>3</td>\n",
              "      <td>0</td>\n",
              "      <td>1</td>\n",
              "    </tr>\n",
              "    <tr>\n",
              "      <th>1</th>\n",
              "      <td>1</td>\n",
              "      <td>like lack evidence anthropogenic global warming</td>\n",
              "      <td>126103</td>\n",
              "      <td>10</td>\n",
              "      <td>53</td>\n",
              "      <td>5.300000</td>\n",
              "      <td>3</td>\n",
              "      <td>0</td>\n",
              "      <td>0</td>\n",
              "    </tr>\n",
              "    <tr>\n",
              "      <th>2</th>\n",
              "      <td>2</td>\n",
              "      <td>rawstory researcher years act climate change late</td>\n",
              "      <td>698562</td>\n",
              "      <td>19</td>\n",
              "      <td>122</td>\n",
              "      <td>6.421053</td>\n",
              "      <td>8</td>\n",
              "      <td>0</td>\n",
              "      <td>1</td>\n",
              "    </tr>\n",
              "    <tr>\n",
              "      <th>3</th>\n",
              "      <td>1</td>\n",
              "      <td>todayinmaker wire pivotal year war climate change</td>\n",
              "      <td>573736</td>\n",
              "      <td>15</td>\n",
              "      <td>85</td>\n",
              "      <td>5.666667</td>\n",
              "      <td>5</td>\n",
              "      <td>1</td>\n",
              "      <td>0</td>\n",
              "    </tr>\n",
              "    <tr>\n",
              "      <th>4</th>\n",
              "      <td>1</td>\n",
              "      <td>soynoviodetodas racist sexist climate change d...</td>\n",
              "      <td>466954</td>\n",
              "      <td>18</td>\n",
              "      <td>105</td>\n",
              "      <td>5.833333</td>\n",
              "      <td>5</td>\n",
              "      <td>1</td>\n",
              "      <td>1</td>\n",
              "    </tr>\n",
              "  </tbody>\n",
              "</table>\n",
              "</div>"
            ],
            "text/plain": [
              "   sentiment  ... mention_count\n",
              "0          1  ...             1\n",
              "1          1  ...             0\n",
              "2          2  ...             1\n",
              "3          1  ...             0\n",
              "4          1  ...             1\n",
              "\n",
              "[5 rows x 9 columns]"
            ]
          },
          "metadata": {
            "tags": []
          },
          "execution_count": 23
        }
      ]
    },
    {
      "cell_type": "markdown",
      "metadata": {
        "id": "WHdl8Gz8Efn5",
        "colab_type": "text"
      },
      "source": [
        "## Balancing the classes"
      ]
    },
    {
      "cell_type": "markdown",
      "metadata": {
        "id": "1va4wl6sF8Mm",
        "colab_type": "text"
      },
      "source": [
        "### Separating majority and minority classes"
      ]
    },
    {
      "cell_type": "code",
      "metadata": {
        "id": "2Ld3rMQlEaRx",
        "colab_type": "code",
        "colab": {}
      },
      "source": [
        "news = train_tweets[train_tweets['sentiment'] == 2]\n",
        "neutral = train_tweets[train_tweets['sentiment'] == 0]\n",
        "positive = train_tweets[train_tweets['sentiment'] == 1]\n",
        "negative = train_tweets[train_tweets['sentiment'] == -1]"
      ],
      "execution_count": 24,
      "outputs": []
    },
    {
      "cell_type": "markdown",
      "metadata": {
        "id": "_DTajy6WIdFB",
        "colab_type": "text"
      },
      "source": [
        "### Resampling minority classes"
      ]
    },
    {
      "cell_type": "code",
      "metadata": {
        "id": "RD6Jy2_SHu9Q",
        "colab_type": "code",
        "colab": {
          "base_uri": "https://localhost:8080/",
          "height": 391
        },
        "outputId": "f06e4123-3d81-4743-d639-e5bd42447c2f"
      },
      "source": [
        "# Upscaling neutral sentinent relatyed tweets\n",
        "neutral_upscaled = resample(neutral,\n",
        "                        replace=True,\n",
        "                        n_samples=len(positive),\n",
        "                        random_state=SEED\n",
        "                        )\n",
        "neutral_upscaled"
      ],
      "execution_count": 25,
      "outputs": [
        {
          "output_type": "execute_result",
          "data": {
            "text/html": [
              "<div>\n",
              "<style scoped>\n",
              "    .dataframe tbody tr th:only-of-type {\n",
              "        vertical-align: middle;\n",
              "    }\n",
              "\n",
              "    .dataframe tbody tr th {\n",
              "        vertical-align: top;\n",
              "    }\n",
              "\n",
              "    .dataframe thead th {\n",
              "        text-align: right;\n",
              "    }\n",
              "</style>\n",
              "<table border=\"1\" class=\"dataframe\">\n",
              "  <thead>\n",
              "    <tr style=\"text-align: right;\">\n",
              "      <th></th>\n",
              "      <th>sentiment</th>\n",
              "      <th>message</th>\n",
              "      <th>tweetid</th>\n",
              "      <th>word_count</th>\n",
              "      <th>char_count</th>\n",
              "      <th>average_word_length</th>\n",
              "      <th>stopword_count</th>\n",
              "      <th>hastag_count</th>\n",
              "      <th>mention_count</th>\n",
              "    </tr>\n",
              "  </thead>\n",
              "  <tbody>\n",
              "    <tr>\n",
              "      <th>5656</th>\n",
              "      <td>0</td>\n",
              "      <td>melanie jeniferstevens latimes nation world ad...</td>\n",
              "      <td>709291</td>\n",
              "      <td>20</td>\n",
              "      <td>119</td>\n",
              "      <td>5.950000</td>\n",
              "      <td>8</td>\n",
              "      <td>0</td>\n",
              "      <td>3</td>\n",
              "    </tr>\n",
              "    <tr>\n",
              "      <th>8570</th>\n",
              "      <td>0</td>\n",
              "      <td>graysondolan eventually bc global warming-</td>\n",
              "      <td>189990</td>\n",
              "      <td>7</td>\n",
              "      <td>45</td>\n",
              "      <td>6.428571</td>\n",
              "      <td>2</td>\n",
              "      <td>0</td>\n",
              "      <td>1</td>\n",
              "    </tr>\n",
              "    <tr>\n",
              "      <th>7453</th>\n",
              "      <td>0</td>\n",
              "      <td>eliapaul weather love fuck global warming</td>\n",
              "      <td>324580</td>\n",
              "      <td>11</td>\n",
              "      <td>54</td>\n",
              "      <td>4.909091</td>\n",
              "      <td>2</td>\n",
              "      <td>0</td>\n",
              "      <td>1</td>\n",
              "    </tr>\n",
              "    <tr>\n",
              "      <th>7201</th>\n",
              "      <td>0</td>\n",
              "      <td>jamesjcowan break netanyahu declare climate ch...</td>\n",
              "      <td>599175</td>\n",
              "      <td>18</td>\n",
              "      <td>123</td>\n",
              "      <td>6.833333</td>\n",
              "      <td>5</td>\n",
              "      <td>6</td>\n",
              "      <td>1</td>\n",
              "    </tr>\n",
              "    <tr>\n",
              "      <th>10956</th>\n",
              "      <td>0</td>\n",
              "      <td>evanlsoloman craig oliver explain climate chan...</td>\n",
              "      <td>454966</td>\n",
              "      <td>19</td>\n",
              "      <td>113</td>\n",
              "      <td>5.947368</td>\n",
              "      <td>3</td>\n",
              "      <td>0</td>\n",
              "      <td>1</td>\n",
              "    </tr>\n",
              "    <tr>\n",
              "      <th>...</th>\n",
              "      <td>...</td>\n",
              "      <td>...</td>\n",
              "      <td>...</td>\n",
              "      <td>...</td>\n",
              "      <td>...</td>\n",
              "      <td>...</td>\n",
              "      <td>...</td>\n",
              "      <td>...</td>\n",
              "      <td>...</td>\n",
              "    </tr>\n",
              "    <tr>\n",
              "      <th>10637</th>\n",
              "      <td>0</td>\n",
              "      <td>question u like smoking weed hate pay taxis th...</td>\n",
              "      <td>837396</td>\n",
              "      <td>26</td>\n",
              "      <td>121</td>\n",
              "      <td>4.653846</td>\n",
              "      <td>8</td>\n",
              "      <td>0</td>\n",
              "      <td>0</td>\n",
              "    </tr>\n",
              "    <tr>\n",
              "      <th>3464</th>\n",
              "      <td>0</td>\n",
              "      <td>hot debate paris agreement climate change</td>\n",
              "      <td>868545</td>\n",
              "      <td>16</td>\n",
              "      <td>104</td>\n",
              "      <td>6.500000</td>\n",
              "      <td>3</td>\n",
              "      <td>0</td>\n",
              "      <td>0</td>\n",
              "    </tr>\n",
              "    <tr>\n",
              "      <th>15718</th>\n",
              "      <td>0</td>\n",
              "      <td>scientist increase soda carbonation worldwide ...</td>\n",
              "      <td>894388</td>\n",
              "      <td>19</td>\n",
              "      <td>111</td>\n",
              "      <td>5.842105</td>\n",
              "      <td>7</td>\n",
              "      <td>1</td>\n",
              "      <td>0</td>\n",
              "    </tr>\n",
              "    <tr>\n",
              "      <th>3967</th>\n",
              "      <td>0</td>\n",
              "      <td>man crush continue climate change hoax it will...</td>\n",
              "      <td>340502</td>\n",
              "      <td>19</td>\n",
              "      <td>98</td>\n",
              "      <td>5.157895</td>\n",
              "      <td>8</td>\n",
              "      <td>0</td>\n",
              "      <td>0</td>\n",
              "    </tr>\n",
              "    <tr>\n",
              "      <th>9606</th>\n",
              "      <td>0</td>\n",
              "      <td>need snow smh fuck climate changesnowsme</td>\n",
              "      <td>508433</td>\n",
              "      <td>11</td>\n",
              "      <td>66</td>\n",
              "      <td>6.000000</td>\n",
              "      <td>1</td>\n",
              "      <td>0</td>\n",
              "      <td>0</td>\n",
              "    </tr>\n",
              "  </tbody>\n",
              "</table>\n",
              "<p>8530 rows × 9 columns</p>\n",
              "</div>"
            ],
            "text/plain": [
              "       sentiment  ... mention_count\n",
              "5656           0  ...             3\n",
              "8570           0  ...             1\n",
              "7453           0  ...             1\n",
              "7201           0  ...             1\n",
              "10956          0  ...             1\n",
              "...          ...  ...           ...\n",
              "10637          0  ...             0\n",
              "3464           0  ...             0\n",
              "15718          0  ...             0\n",
              "3967           0  ...             0\n",
              "9606           0  ...             0\n",
              "\n",
              "[8530 rows x 9 columns]"
            ]
          },
          "metadata": {
            "tags": []
          },
          "execution_count": 25
        }
      ]
    },
    {
      "cell_type": "code",
      "metadata": {
        "id": "bfz-vX3EIlCN",
        "colab_type": "code",
        "colab": {
          "base_uri": "https://localhost:8080/",
          "height": 391
        },
        "outputId": "741258b7-dd85-4d50-ace1-ee62752e5b4d"
      },
      "source": [
        "# Upscaling negative sentinent related tweets\n",
        "negative_upscaled = resample(negative,\n",
        "                        replace=True,\n",
        "                        n_samples=len(positive),\n",
        "                        random_state=SEED\n",
        "                        )\n",
        "negative_upscaled"
      ],
      "execution_count": 26,
      "outputs": [
        {
          "output_type": "execute_result",
          "data": {
            "text/html": [
              "<div>\n",
              "<style scoped>\n",
              "    .dataframe tbody tr th:only-of-type {\n",
              "        vertical-align: middle;\n",
              "    }\n",
              "\n",
              "    .dataframe tbody tr th {\n",
              "        vertical-align: top;\n",
              "    }\n",
              "\n",
              "    .dataframe thead th {\n",
              "        text-align: right;\n",
              "    }\n",
              "</style>\n",
              "<table border=\"1\" class=\"dataframe\">\n",
              "  <thead>\n",
              "    <tr style=\"text-align: right;\">\n",
              "      <th></th>\n",
              "      <th>sentiment</th>\n",
              "      <th>message</th>\n",
              "      <th>tweetid</th>\n",
              "      <th>word_count</th>\n",
              "      <th>char_count</th>\n",
              "      <th>average_word_length</th>\n",
              "      <th>stopword_count</th>\n",
              "      <th>hastag_count</th>\n",
              "      <th>mention_count</th>\n",
              "    </tr>\n",
              "  </thead>\n",
              "  <tbody>\n",
              "    <tr>\n",
              "      <th>13780</th>\n",
              "      <td>-1</td>\n",
              "      <td>lmao fool think global warming realit degree o...</td>\n",
              "      <td>603068</td>\n",
              "      <td>14</td>\n",
              "      <td>74</td>\n",
              "      <td>5.285714</td>\n",
              "      <td>2</td>\n",
              "      <td>0</td>\n",
              "      <td>0</td>\n",
              "    </tr>\n",
              "    <tr>\n",
              "      <th>10438</th>\n",
              "      <td>-1</td>\n",
              "      <td>ipcc look climate change protester copenhagen ...</td>\n",
              "      <td>90618</td>\n",
              "      <td>16</td>\n",
              "      <td>98</td>\n",
              "      <td>6.125000</td>\n",
              "      <td>7</td>\n",
              "      <td>1</td>\n",
              "      <td>0</td>\n",
              "    </tr>\n",
              "    <tr>\n",
              "      <th>15806</th>\n",
              "      <td>-1</td>\n",
              "      <td>herbermp snessness al gore idiot think climate...</td>\n",
              "      <td>213863</td>\n",
              "      <td>23</td>\n",
              "      <td>108</td>\n",
              "      <td>4.695652</td>\n",
              "      <td>8</td>\n",
              "      <td>0</td>\n",
              "      <td>2</td>\n",
              "    </tr>\n",
              "    <tr>\n",
              "      <th>13854</th>\n",
              "      <td>-1</td>\n",
              "      <td>tuckercarlson realdonaldtrump wrestling meme r...</td>\n",
              "      <td>748586</td>\n",
              "      <td>12</td>\n",
              "      <td>78</td>\n",
              "      <td>6.500000</td>\n",
              "      <td>3</td>\n",
              "      <td>1</td>\n",
              "      <td>2</td>\n",
              "    </tr>\n",
              "    <tr>\n",
              "      <th>13434</th>\n",
              "      <td>-1</td>\n",
              "      <td>realdonaldtrump concept global warming create ...</td>\n",
              "      <td>502164</td>\n",
              "      <td>21</td>\n",
              "      <td>118</td>\n",
              "      <td>5.619048</td>\n",
              "      <td>9</td>\n",
              "      <td>0</td>\n",
              "      <td>1</td>\n",
              "    </tr>\n",
              "    <tr>\n",
              "      <th>...</th>\n",
              "      <td>...</td>\n",
              "      <td>...</td>\n",
              "      <td>...</td>\n",
              "      <td>...</td>\n",
              "      <td>...</td>\n",
              "      <td>...</td>\n",
              "      <td>...</td>\n",
              "      <td>...</td>\n",
              "      <td>...</td>\n",
              "    </tr>\n",
              "    <tr>\n",
              "      <th>12394</th>\n",
              "      <td>-1</td>\n",
              "      <td>columbiabugle al gores current house great mak...</td>\n",
              "      <td>443648</td>\n",
              "      <td>18</td>\n",
              "      <td>112</td>\n",
              "      <td>6.222222</td>\n",
              "      <td>4</td>\n",
              "      <td>0</td>\n",
              "      <td>1</td>\n",
              "    </tr>\n",
              "    <tr>\n",
              "      <th>4772</th>\n",
              "      <td>-1</td>\n",
              "      <td>gmbnumba obama could have spend mil spend clim...</td>\n",
              "      <td>629228</td>\n",
              "      <td>21</td>\n",
              "      <td>114</td>\n",
              "      <td>5.428571</td>\n",
              "      <td>5</td>\n",
              "      <td>0</td>\n",
              "      <td>1</td>\n",
              "    </tr>\n",
              "    <tr>\n",
              "      <th>10154</th>\n",
              "      <td>-1</td>\n",
              "      <td>world global warming alarmist nation ignore gr...</td>\n",
              "      <td>93930</td>\n",
              "      <td>10</td>\n",
              "      <td>86</td>\n",
              "      <td>8.600000</td>\n",
              "      <td>0</td>\n",
              "      <td>0</td>\n",
              "      <td>0</td>\n",
              "    </tr>\n",
              "    <tr>\n",
              "      <th>13047</th>\n",
              "      <td>-1</td>\n",
              "      <td>ecosensenow put pressure climate change politicos</td>\n",
              "      <td>882251</td>\n",
              "      <td>11</td>\n",
              "      <td>84</td>\n",
              "      <td>7.636364</td>\n",
              "      <td>3</td>\n",
              "      <td>0</td>\n",
              "      <td>1</td>\n",
              "    </tr>\n",
              "    <tr>\n",
              "      <th>7442</th>\n",
              "      <td>-1</td>\n",
              "      <td>yeahkenoath turnbullmalcolm climate change wan...</td>\n",
              "      <td>362035</td>\n",
              "      <td>22</td>\n",
              "      <td>112</td>\n",
              "      <td>5.090909</td>\n",
              "      <td>9</td>\n",
              "      <td>0</td>\n",
              "      <td>2</td>\n",
              "    </tr>\n",
              "  </tbody>\n",
              "</table>\n",
              "<p>8530 rows × 9 columns</p>\n",
              "</div>"
            ],
            "text/plain": [
              "       sentiment  ... mention_count\n",
              "13780         -1  ...             0\n",
              "10438         -1  ...             0\n",
              "15806         -1  ...             2\n",
              "13854         -1  ...             2\n",
              "13434         -1  ...             1\n",
              "...          ...  ...           ...\n",
              "12394         -1  ...             1\n",
              "4772          -1  ...             1\n",
              "10154         -1  ...             0\n",
              "13047         -1  ...             1\n",
              "7442          -1  ...             2\n",
              "\n",
              "[8530 rows x 9 columns]"
            ]
          },
          "metadata": {
            "tags": []
          },
          "execution_count": 26
        }
      ]
    },
    {
      "cell_type": "code",
      "metadata": {
        "id": "84Dg-IQpImaZ",
        "colab_type": "code",
        "colab": {
          "base_uri": "https://localhost:8080/",
          "height": 391
        },
        "outputId": "104f8fc1-d270-4593-d4b3-3878afa36ec8"
      },
      "source": [
        "# Upscaling news sentinent related tweets\n",
        "news_upscaled = resample(news,\n",
        "                        replace=True,\n",
        "                        n_samples=len(positive),\n",
        "                        random_state=SEED\n",
        "                        )\n",
        "news_upscaled"
      ],
      "execution_count": 27,
      "outputs": [
        {
          "output_type": "execute_result",
          "data": {
            "text/html": [
              "<div>\n",
              "<style scoped>\n",
              "    .dataframe tbody tr th:only-of-type {\n",
              "        vertical-align: middle;\n",
              "    }\n",
              "\n",
              "    .dataframe tbody tr th {\n",
              "        vertical-align: top;\n",
              "    }\n",
              "\n",
              "    .dataframe thead th {\n",
              "        text-align: right;\n",
              "    }\n",
              "</style>\n",
              "<table border=\"1\" class=\"dataframe\">\n",
              "  <thead>\n",
              "    <tr style=\"text-align: right;\">\n",
              "      <th></th>\n",
              "      <th>sentiment</th>\n",
              "      <th>message</th>\n",
              "      <th>tweetid</th>\n",
              "      <th>word_count</th>\n",
              "      <th>char_count</th>\n",
              "      <th>average_word_length</th>\n",
              "      <th>stopword_count</th>\n",
              "      <th>hastag_count</th>\n",
              "      <th>mention_count</th>\n",
              "    </tr>\n",
              "  </thead>\n",
              "  <tbody>\n",
              "    <tr>\n",
              "      <th>13776</th>\n",
              "      <td>2</td>\n",
              "      <td>climatehawk europe face drought flood storm cl...</td>\n",
              "      <td>849649</td>\n",
              "      <td>14</td>\n",
              "      <td>110</td>\n",
              "      <td>7.857143</td>\n",
              "      <td>1</td>\n",
              "      <td>1</td>\n",
              "      <td>2</td>\n",
              "    </tr>\n",
              "    <tr>\n",
              "      <th>15247</th>\n",
              "      <td>2</td>\n",
              "      <td>el nino warm planet spark zika epidemic scient...</td>\n",
              "      <td>610545</td>\n",
              "      <td>19</td>\n",
              "      <td>109</td>\n",
              "      <td>5.736842</td>\n",
              "      <td>5</td>\n",
              "      <td>0</td>\n",
              "      <td>0</td>\n",
              "    </tr>\n",
              "    <tr>\n",
              "      <th>3533</th>\n",
              "      <td>2</td>\n",
              "      <td>cbcales trump say keep open mind climate chang...</td>\n",
              "      <td>625516</td>\n",
              "      <td>21</td>\n",
              "      <td>120</td>\n",
              "      <td>5.714286</td>\n",
              "      <td>3</td>\n",
              "      <td>0</td>\n",
              "      <td>1</td>\n",
              "    </tr>\n",
              "    <tr>\n",
              "      <th>5570</th>\n",
              "      <td>2</td>\n",
              "      <td>thehill sierra club call investigation epa hea...</td>\n",
              "      <td>86301</td>\n",
              "      <td>16</td>\n",
              "      <td>122</td>\n",
              "      <td>7.625000</td>\n",
              "      <td>3</td>\n",
              "      <td>0</td>\n",
              "      <td>1</td>\n",
              "    </tr>\n",
              "    <tr>\n",
              "      <th>4824</th>\n",
              "      <td>2</td>\n",
              "      <td>tackle climate change boost economic growth oe...</td>\n",
              "      <td>291460</td>\n",
              "      <td>10</td>\n",
              "      <td>76</td>\n",
              "      <td>7.600000</td>\n",
              "      <td>1</td>\n",
              "      <td>0</td>\n",
              "      <td>0</td>\n",
              "    </tr>\n",
              "    <tr>\n",
              "      <th>...</th>\n",
              "      <td>...</td>\n",
              "      <td>...</td>\n",
              "      <td>...</td>\n",
              "      <td>...</td>\n",
              "      <td>...</td>\n",
              "      <td>...</td>\n",
              "      <td>...</td>\n",
              "      <td>...</td>\n",
              "      <td>...</td>\n",
              "    </tr>\n",
              "    <tr>\n",
              "      <th>8384</th>\n",
              "      <td>2</td>\n",
              "      <td>wsj california governor jerry brown challenge ...</td>\n",
              "      <td>680465</td>\n",
              "      <td>13</td>\n",
              "      <td>111</td>\n",
              "      <td>8.538462</td>\n",
              "      <td>1</td>\n",
              "      <td>0</td>\n",
              "      <td>1</td>\n",
              "    </tr>\n",
              "    <tr>\n",
              "      <th>6671</th>\n",
              "      <td>2</td>\n",
              "      <td>theecoheroe prince charles co - author ladybir...</td>\n",
              "      <td>328961</td>\n",
              "      <td>13</td>\n",
              "      <td>117</td>\n",
              "      <td>9.000000</td>\n",
              "      <td>0</td>\n",
              "      <td>2</td>\n",
              "      <td>1</td>\n",
              "    </tr>\n",
              "    <tr>\n",
              "      <th>14045</th>\n",
              "      <td>2</td>\n",
              "      <td>country set cash climate change</td>\n",
              "      <td>659392</td>\n",
              "      <td>10</td>\n",
              "      <td>59</td>\n",
              "      <td>5.900000</td>\n",
              "      <td>3</td>\n",
              "      <td>0</td>\n",
              "      <td>0</td>\n",
              "    </tr>\n",
              "    <tr>\n",
              "      <th>9194</th>\n",
              "      <td>2</td>\n",
              "      <td>officialjoelf miami underwater climate change</td>\n",
              "      <td>260626</td>\n",
              "      <td>13</td>\n",
              "      <td>86</td>\n",
              "      <td>6.615385</td>\n",
              "      <td>5</td>\n",
              "      <td>0</td>\n",
              "      <td>1</td>\n",
              "    </tr>\n",
              "    <tr>\n",
              "      <th>10521</th>\n",
              "      <td>2</td>\n",
              "      <td>stephen hawking message trump do not ignore cl...</td>\n",
              "      <td>437946</td>\n",
              "      <td>12</td>\n",
              "      <td>81</td>\n",
              "      <td>6.750000</td>\n",
              "      <td>3</td>\n",
              "      <td>0</td>\n",
              "      <td>0</td>\n",
              "    </tr>\n",
              "  </tbody>\n",
              "</table>\n",
              "<p>8530 rows × 9 columns</p>\n",
              "</div>"
            ],
            "text/plain": [
              "       sentiment  ... mention_count\n",
              "13776          2  ...             2\n",
              "15247          2  ...             0\n",
              "3533           2  ...             1\n",
              "5570           2  ...             1\n",
              "4824           2  ...             0\n",
              "...          ...  ...           ...\n",
              "8384           2  ...             1\n",
              "6671           2  ...             1\n",
              "14045          2  ...             0\n",
              "9194           2  ...             1\n",
              "10521          2  ...             0\n",
              "\n",
              "[8530 rows x 9 columns]"
            ]
          },
          "metadata": {
            "tags": []
          },
          "execution_count": 27
        }
      ]
    },
    {
      "cell_type": "markdown",
      "metadata": {
        "id": "4VsqqMRxJSLA",
        "colab_type": "text"
      },
      "source": [
        "### Combine upsampled minority classes with majority class "
      ]
    },
    {
      "cell_type": "code",
      "metadata": {
        "id": "-5EsnDCfJh8R",
        "colab_type": "code",
        "colab": {
          "base_uri": "https://localhost:8080/",
          "height": 98
        },
        "outputId": "d8f827f2-4de5-49a0-f4d7-0af6c692f336"
      },
      "source": [
        "upsampled = pd.concat([neutral_upscaled, negative_upscaled, news_upscaled, positive])\n",
        "\n",
        "# Check new class counts\n",
        "downsampled['sentiment'].value_counts()"
      ],
      "execution_count": 28,
      "outputs": [
        {
          "output_type": "execute_result",
          "data": {
            "text/plain": [
              "-1    8530\n",
              " 2    8530\n",
              " 1    8530\n",
              " 0    8530\n",
              "Name: sentiment, dtype: int64"
            ]
          },
          "metadata": {
            "tags": []
          },
          "execution_count": 28
        }
      ]
    },
    {
      "cell_type": "markdown",
      "metadata": {
        "id": "cy1JAEA8S73N",
        "colab_type": "text"
      },
      "source": [
        "## Model building"
      ]
    },
    {
      "cell_type": "code",
      "metadata": {
        "id": "WHAsdIe8WGn2",
        "colab_type": "code",
        "colab": {}
      },
      "source": [
        "from sklearn.pipeline import Pipeline"
      ],
      "execution_count": 50,
      "outputs": []
    },
    {
      "cell_type": "code",
      "metadata": {
        "id": "DkfgjBOxXE2m",
        "colab_type": "code",
        "colab": {}
      },
      "source": [
        "train_features, test_features, train_labels, test_labels = train_test_split(upsampled['message'], upsampled['sentiment'], test_size=0.20, random_state=SEED)"
      ],
      "execution_count": 63,
      "outputs": []
    },
    {
      "cell_type": "markdown",
      "metadata": {
        "id": "Xf0pcvjZS73N",
        "colab_type": "text"
      },
      "source": [
        "### Logistic Regression Classifier"
      ]
    },
    {
      "cell_type": "code",
      "metadata": {
        "id": "WTG2WiBGS73P",
        "colab_type": "code",
        "colab": {}
      },
      "source": [
        "lg_classifier = Pipeline([('tfidf', TfidfVectorizer()),\n",
        "                          ('clf', LogisticRegression(multi_class='multinomial', solver='sag', penalty='l2', random_state=SEED)),])"
      ],
      "execution_count": 64,
      "outputs": []
    },
    {
      "cell_type": "code",
      "metadata": {
        "id": "VEC7BIzvS73V",
        "colab_type": "code",
        "colab": {
          "base_uri": "https://localhost:8080/",
          "height": 375
        },
        "outputId": "86943ca6-2185-45c2-ced9-a516d3afceb2"
      },
      "source": [
        "lg_classifier.fit(train_features, train_labels)"
      ],
      "execution_count": 65,
      "outputs": [
        {
          "output_type": "execute_result",
          "data": {
            "text/plain": [
              "Pipeline(memory=None,\n",
              "         steps=[('tfidf',\n",
              "                 TfidfVectorizer(analyzer='word', binary=False,\n",
              "                                 decode_error='strict',\n",
              "                                 dtype=<class 'numpy.float64'>,\n",
              "                                 encoding='utf-8', input='content',\n",
              "                                 lowercase=True, max_df=1.0, max_features=None,\n",
              "                                 min_df=1, ngram_range=(1, 1), norm='l2',\n",
              "                                 preprocessor=None, smooth_idf=True,\n",
              "                                 stop_words=None, strip_accents=None,\n",
              "                                 sublinear_tf=False,\n",
              "                                 token_pattern='(?u)\\\\b\\\\w\\\\w+\\\\b',\n",
              "                                 tokenizer=None, use_idf=True,\n",
              "                                 vocabulary=None)),\n",
              "                ('clf',\n",
              "                 LogisticRegression(C=1.0, class_weight=None, dual=False,\n",
              "                                    fit_intercept=True, intercept_scaling=1,\n",
              "                                    l1_ratio=None, max_iter=100,\n",
              "                                    multi_class='multinomial', n_jobs=None,\n",
              "                                    penalty='l2', random_state=42, solver='sag',\n",
              "                                    tol=0.0001, verbose=0, warm_start=False))],\n",
              "         verbose=False)"
            ]
          },
          "metadata": {
            "tags": []
          },
          "execution_count": 65
        }
      ]
    },
    {
      "cell_type": "code",
      "metadata": {
        "id": "a4NK3tdxS73Y",
        "colab_type": "code",
        "colab": {}
      },
      "source": [
        "# Form a prediction set\n",
        "lg_predictions = lg_classifier.predict(test_features)"
      ],
      "execution_count": 66,
      "outputs": []
    },
    {
      "cell_type": "code",
      "metadata": {
        "id": "PIjPXmopGHao",
        "colab_type": "code",
        "colab": {}
      },
      "source": [
        "#predictions for  kaggle test data\n",
        "lg_test_predictions = lg_classifier.predict(test_tweets['message'])\n"
      ],
      "execution_count": 67,
      "outputs": []
    },
    {
      "cell_type": "code",
      "metadata": {
        "id": "GhHUgh0xIGCU",
        "colab_type": "code",
        "colab": {
          "base_uri": "https://localhost:8080/",
          "height": 191
        },
        "outputId": "409f23ab-6ce1-497d-9abf-b619530d717f"
      },
      "source": [
        "test_tweets['sentiment'] = lg_test_predictions\n",
        "test_tweets.head()"
      ],
      "execution_count": 68,
      "outputs": [
        {
          "output_type": "execute_result",
          "data": {
            "text/html": [
              "<div>\n",
              "<style scoped>\n",
              "    .dataframe tbody tr th:only-of-type {\n",
              "        vertical-align: middle;\n",
              "    }\n",
              "\n",
              "    .dataframe tbody tr th {\n",
              "        vertical-align: top;\n",
              "    }\n",
              "\n",
              "    .dataframe thead th {\n",
              "        text-align: right;\n",
              "    }\n",
              "</style>\n",
              "<table border=\"1\" class=\"dataframe\">\n",
              "  <thead>\n",
              "    <tr style=\"text-align: right;\">\n",
              "      <th></th>\n",
              "      <th>message</th>\n",
              "      <th>tweetid</th>\n",
              "      <th>sentiment</th>\n",
              "    </tr>\n",
              "  </thead>\n",
              "  <tbody>\n",
              "    <tr>\n",
              "      <th>0</th>\n",
              "      <td>Europe will now be looking to China to make su...</td>\n",
              "      <td>169760</td>\n",
              "      <td>1</td>\n",
              "    </tr>\n",
              "    <tr>\n",
              "      <th>1</th>\n",
              "      <td>Combine this with the polling of staffers re c...</td>\n",
              "      <td>35326</td>\n",
              "      <td>1</td>\n",
              "    </tr>\n",
              "    <tr>\n",
              "      <th>2</th>\n",
              "      <td>The scary, unimpeachable evidence that climate...</td>\n",
              "      <td>224985</td>\n",
              "      <td>1</td>\n",
              "    </tr>\n",
              "    <tr>\n",
              "      <th>3</th>\n",
              "      <td>@Karoli @morgfair @OsborneInk @dailykos \\nPuti...</td>\n",
              "      <td>476263</td>\n",
              "      <td>1</td>\n",
              "    </tr>\n",
              "    <tr>\n",
              "      <th>4</th>\n",
              "      <td>RT @FakeWillMoore: 'Female orgasms cause globa...</td>\n",
              "      <td>872928</td>\n",
              "      <td>0</td>\n",
              "    </tr>\n",
              "  </tbody>\n",
              "</table>\n",
              "</div>"
            ],
            "text/plain": [
              "                                             message  tweetid  sentiment\n",
              "0  Europe will now be looking to China to make su...   169760          1\n",
              "1  Combine this with the polling of staffers re c...    35326          1\n",
              "2  The scary, unimpeachable evidence that climate...   224985          1\n",
              "3  @Karoli @morgfair @OsborneInk @dailykos \\nPuti...   476263          1\n",
              "4  RT @FakeWillMoore: 'Female orgasms cause globa...   872928          0"
            ]
          },
          "metadata": {
            "tags": []
          },
          "execution_count": 68
        }
      ]
    },
    {
      "cell_type": "code",
      "metadata": {
        "id": "W1vrwiwxKFnK",
        "colab_type": "code",
        "colab": {}
      },
      "source": [
        "test_tweets.to_csv(path_or_buf='lg_predictions.csv', columns=['tweetid', 'sentiment'], index=False, index_label=['tweetid', 'sentiment'])"
      ],
      "execution_count": 69,
      "outputs": []
    },
    {
      "cell_type": "code",
      "metadata": {
        "id": "8NyjuN69S73b",
        "colab_type": "code",
        "colab": {
          "base_uri": "https://localhost:8080/",
          "height": 82
        },
        "outputId": "fdbbcf06-6200-443f-eb21-b6303ca71187"
      },
      "source": [
        "# Report the confusion matrix\n",
        "print(confusion_matrix(test_labels,lg_predictions))"
      ],
      "execution_count": 70,
      "outputs": [
        {
          "output_type": "stream",
          "text": [
            "[[  81   32  150   15]\n",
            " [   9  154  225   37]\n",
            " [   9   50 1539  157]\n",
            " [   1    6  140  559]]\n"
          ],
          "name": "stdout"
        }
      ]
    },
    {
      "cell_type": "code",
      "metadata": {
        "id": "NJQhOfr_S73e",
        "colab_type": "code",
        "colab": {
          "base_uri": "https://localhost:8080/",
          "height": 196
        },
        "outputId": "32959db9-cfcc-4ae9-b0b9-7e786b5bc3ed"
      },
      "source": [
        "# Print a classification report\n",
        "print(classification_report(test_labels,lg_predictions))"
      ],
      "execution_count": 71,
      "outputs": [
        {
          "output_type": "stream",
          "text": [
            "              precision    recall  f1-score   support\n",
            "\n",
            "          -1       0.81      0.29      0.43       278\n",
            "           0       0.64      0.36      0.46       425\n",
            "           1       0.75      0.88      0.81      1755\n",
            "           2       0.73      0.79      0.76       706\n",
            "\n",
            "    accuracy                           0.74      3164\n",
            "   macro avg       0.73      0.58      0.61      3164\n",
            "weighted avg       0.73      0.74      0.72      3164\n",
            "\n"
          ],
          "name": "stdout"
        }
      ]
    },
    {
      "cell_type": "code",
      "metadata": {
        "id": "qovou0YTS73h",
        "colab_type": "code",
        "colab": {
          "base_uri": "https://localhost:8080/",
          "height": 33
        },
        "outputId": "74bc2e69-bf77-4c62-cc7d-4903070ccd2b"
      },
      "source": [
        "# Print the overall accuracy\n",
        "print(accuracy_score(test_labels,lg_predictions))"
      ],
      "execution_count": 72,
      "outputs": [
        {
          "output_type": "stream",
          "text": [
            "0.7373577749683944\n"
          ],
          "name": "stdout"
        }
      ]
    },
    {
      "cell_type": "markdown",
      "metadata": {
        "id": "oEV4tIPIS73j",
        "colab_type": "text"
      },
      "source": [
        "### Logistic Regression CV"
      ]
    },
    {
      "cell_type": "code",
      "metadata": {
        "id": "1hb0vO_-S73k",
        "colab_type": "code",
        "colab": {}
      },
      "source": [
        "# lgcv_classifier = Pipeline([('tfidf', TfidfVectorizer()),\n",
        "#                           ('clf', LogisticRegressionCV(max_iter=1000,\n",
        "#                                                      penalty='l1',\n",
        "#                                                      class_weight='balanced',\n",
        "#                                                      solver='saga',\n",
        "#                                                      multi_class='multinomial',\n",
        "#                                                      random_state=SEED)),])"
      ],
      "execution_count": null,
      "outputs": []
    },
    {
      "cell_type": "code",
      "metadata": {
        "id": "rhy8PPIzS73n",
        "colab_type": "code",
        "colab": {}
      },
      "source": [
        "#lgcv_classifier.fit(train_features, train_labels)"
      ],
      "execution_count": 82,
      "outputs": []
    },
    {
      "cell_type": "code",
      "metadata": {
        "id": "y4pVupOXS73q",
        "colab_type": "code",
        "colab": {}
      },
      "source": [
        "# Form a prediction set\n",
        "lgcv_predictions = lgcv_classifier.predict(test_features)"
      ],
      "execution_count": null,
      "outputs": []
    },
    {
      "cell_type": "code",
      "metadata": {
        "id": "yYfGvG0yS73u",
        "colab_type": "code",
        "colab": {}
      },
      "source": [
        "# Report the confusion matrix\n",
        "print(confusion_matrix(test_labels,lgcv_predictions))"
      ],
      "execution_count": null,
      "outputs": []
    },
    {
      "cell_type": "code",
      "metadata": {
        "id": "8atU6t1YS73x",
        "colab_type": "code",
        "colab": {}
      },
      "source": [
        "# Print a classification report\n",
        "print(classification_report(test_labels,lgcv_predictions))"
      ],
      "execution_count": null,
      "outputs": []
    },
    {
      "cell_type": "code",
      "metadata": {
        "id": "PLrc0t0IS731",
        "colab_type": "code",
        "colab": {}
      },
      "source": [
        "# Print the overall accuracy\n",
        "print(accuracy_score(test_labels,lgcv_predictions))"
      ],
      "execution_count": null,
      "outputs": []
    },
    {
      "cell_type": "markdown",
      "metadata": {
        "id": "gzyIEQiXS734",
        "colab_type": "text"
      },
      "source": [
        "### Multinomial Naive Bayes"
      ]
    },
    {
      "cell_type": "code",
      "metadata": {
        "id": "D7hYj0NES735",
        "colab_type": "code",
        "colab": {}
      },
      "source": [
        "# Naïve Bayes:\n",
        "mnb_classifier = Pipeline([('tfidf', TfidfVectorizer()), ('clf', MultinomialNB()),])"
      ],
      "execution_count": null,
      "outputs": []
    },
    {
      "cell_type": "code",
      "metadata": {
        "id": "U3u2-1s0S738",
        "colab_type": "code",
        "colab": {}
      },
      "source": [
        "# train Naive bayes classifier\n",
        "#mnb_classifier.fit(train_labels, train_labels)"
      ],
      "execution_count": 81,
      "outputs": []
    },
    {
      "cell_type": "code",
      "metadata": {
        "id": "2qC2dqp8S74A",
        "colab_type": "code",
        "colab": {}
      },
      "source": [
        "# Form a prediction set\n",
        "mnb_predictions = mnb_classifier.predict(test_features)"
      ],
      "execution_count": null,
      "outputs": []
    },
    {
      "cell_type": "code",
      "metadata": {
        "id": "R8zddfZtS74G",
        "colab_type": "code",
        "colab": {}
      },
      "source": [
        "# Report the confusion matrix\n",
        "print(metrics.confusion_matrix(test_labels,mnb_predictions))"
      ],
      "execution_count": null,
      "outputs": []
    },
    {
      "cell_type": "code",
      "metadata": {
        "id": "GHJARWkZS74J",
        "colab_type": "code",
        "colab": {}
      },
      "source": [
        "# Print a classification report\n",
        "print(metrics.classification_report(test_labels,mnb_predictions))"
      ],
      "execution_count": null,
      "outputs": []
    },
    {
      "cell_type": "code",
      "metadata": {
        "id": "H-gQKDw8S74T",
        "colab_type": "code",
        "colab": {}
      },
      "source": [
        "# Print the overall accuracy\n",
        "print(metrics.accuracy_score(test_labels,mnb_predictions))"
      ],
      "execution_count": null,
      "outputs": []
    },
    {
      "cell_type": "markdown",
      "metadata": {
        "id": "BFeMWAysS74V",
        "colab_type": "text"
      },
      "source": [
        "### SGD Classifier"
      ]
    },
    {
      "cell_type": "markdown",
      "metadata": {
        "id": "Xr8RQPp8S74W",
        "colab_type": "text"
      },
      "source": [
        "### Linear SVC"
      ]
    },
    {
      "cell_type": "code",
      "metadata": {
        "id": "F95OwQbrS74W",
        "colab_type": "code",
        "colab": {}
      },
      "source": [
        "# Linear SVC:\n",
        "lsvc_classifier = Pipeline([('tfidf', TfidfVectorizer()),\n",
        "                          \n",
        "                          ('clf', LinearSVC(random_state=SEED)),])"
      ],
      "execution_count": 73,
      "outputs": []
    },
    {
      "cell_type": "code",
      "metadata": {
        "id": "ObhjOZ67S74a",
        "colab_type": "code",
        "colab": {
          "base_uri": "https://localhost:8080/",
          "height": 358
        },
        "outputId": "40e1c8ef-f2f9-4695-c63d-05471e6a3178"
      },
      "source": [
        "lsvc_classifier.fit(train_features, train_labels)"
      ],
      "execution_count": 74,
      "outputs": [
        {
          "output_type": "execute_result",
          "data": {
            "text/plain": [
              "Pipeline(memory=None,\n",
              "         steps=[('tfidf',\n",
              "                 TfidfVectorizer(analyzer='word', binary=False,\n",
              "                                 decode_error='strict',\n",
              "                                 dtype=<class 'numpy.float64'>,\n",
              "                                 encoding='utf-8', input='content',\n",
              "                                 lowercase=True, max_df=1.0, max_features=None,\n",
              "                                 min_df=1, ngram_range=(1, 1), norm='l2',\n",
              "                                 preprocessor=None, smooth_idf=True,\n",
              "                                 stop_words=None, strip_accents=None,\n",
              "                                 sublinear_tf=False,\n",
              "                                 token_pattern='(?u)\\\\b\\\\w\\\\w+\\\\b',\n",
              "                                 tokenizer=None, use_idf=True,\n",
              "                                 vocabulary=None)),\n",
              "                ('clf',\n",
              "                 LinearSVC(C=1.0, class_weight=None, dual=True,\n",
              "                           fit_intercept=True, intercept_scaling=1,\n",
              "                           loss='squared_hinge', max_iter=1000,\n",
              "                           multi_class='ovr', penalty='l2', random_state=42,\n",
              "                           tol=0.0001, verbose=0))],\n",
              "         verbose=False)"
            ]
          },
          "metadata": {
            "tags": []
          },
          "execution_count": 74
        }
      ]
    },
    {
      "cell_type": "code",
      "metadata": {
        "id": "bqQZzkdgS74c",
        "colab_type": "code",
        "colab": {}
      },
      "source": [
        "# Form a prediction set\n",
        "lsvc_predictions = lsvc_classifier.predict(test_features)\n",
        "lsvc_test_predictions = lsvc_classifier.predict(test_tweets['message'])"
      ],
      "execution_count": 75,
      "outputs": []
    },
    {
      "cell_type": "code",
      "metadata": {
        "id": "_yW0UTaYNBY-",
        "colab_type": "code",
        "colab": {
          "base_uri": "https://localhost:8080/",
          "height": 191
        },
        "outputId": "6b83acbb-99a0-4e9d-e14a-b35035c1cfd0"
      },
      "source": [
        "test_tweets.drop('sentiment', axis=1, inplace=True)\n",
        "test_tweets.head()"
      ],
      "execution_count": 76,
      "outputs": [
        {
          "output_type": "execute_result",
          "data": {
            "text/html": [
              "<div>\n",
              "<style scoped>\n",
              "    .dataframe tbody tr th:only-of-type {\n",
              "        vertical-align: middle;\n",
              "    }\n",
              "\n",
              "    .dataframe tbody tr th {\n",
              "        vertical-align: top;\n",
              "    }\n",
              "\n",
              "    .dataframe thead th {\n",
              "        text-align: right;\n",
              "    }\n",
              "</style>\n",
              "<table border=\"1\" class=\"dataframe\">\n",
              "  <thead>\n",
              "    <tr style=\"text-align: right;\">\n",
              "      <th></th>\n",
              "      <th>message</th>\n",
              "      <th>tweetid</th>\n",
              "    </tr>\n",
              "  </thead>\n",
              "  <tbody>\n",
              "    <tr>\n",
              "      <th>0</th>\n",
              "      <td>Europe will now be looking to China to make su...</td>\n",
              "      <td>169760</td>\n",
              "    </tr>\n",
              "    <tr>\n",
              "      <th>1</th>\n",
              "      <td>Combine this with the polling of staffers re c...</td>\n",
              "      <td>35326</td>\n",
              "    </tr>\n",
              "    <tr>\n",
              "      <th>2</th>\n",
              "      <td>The scary, unimpeachable evidence that climate...</td>\n",
              "      <td>224985</td>\n",
              "    </tr>\n",
              "    <tr>\n",
              "      <th>3</th>\n",
              "      <td>@Karoli @morgfair @OsborneInk @dailykos \\nPuti...</td>\n",
              "      <td>476263</td>\n",
              "    </tr>\n",
              "    <tr>\n",
              "      <th>4</th>\n",
              "      <td>RT @FakeWillMoore: 'Female orgasms cause globa...</td>\n",
              "      <td>872928</td>\n",
              "    </tr>\n",
              "  </tbody>\n",
              "</table>\n",
              "</div>"
            ],
            "text/plain": [
              "                                             message  tweetid\n",
              "0  Europe will now be looking to China to make su...   169760\n",
              "1  Combine this with the polling of staffers re c...    35326\n",
              "2  The scary, unimpeachable evidence that climate...   224985\n",
              "3  @Karoli @morgfair @OsborneInk @dailykos \\nPuti...   476263\n",
              "4  RT @FakeWillMoore: 'Female orgasms cause globa...   872928"
            ]
          },
          "metadata": {
            "tags": []
          },
          "execution_count": 76
        }
      ]
    },
    {
      "cell_type": "code",
      "metadata": {
        "id": "Am-N6Ly0OH13",
        "colab_type": "code",
        "colab": {
          "base_uri": "https://localhost:8080/",
          "height": 191
        },
        "outputId": "ec36a1d3-9e66-40ad-9896-cc10c1157295"
      },
      "source": [
        "test_tweets['sentiment'] = lsvc_test_predictions\n",
        "test_tweets.to_csv(path_or_buf='lsvc_predictions.csv', columns=['tweetid', 'sentiment'], index=False, index_label=['tweetid', 'sentiment'])\n",
        "test_tweets.head()"
      ],
      "execution_count": 77,
      "outputs": [
        {
          "output_type": "execute_result",
          "data": {
            "text/html": [
              "<div>\n",
              "<style scoped>\n",
              "    .dataframe tbody tr th:only-of-type {\n",
              "        vertical-align: middle;\n",
              "    }\n",
              "\n",
              "    .dataframe tbody tr th {\n",
              "        vertical-align: top;\n",
              "    }\n",
              "\n",
              "    .dataframe thead th {\n",
              "        text-align: right;\n",
              "    }\n",
              "</style>\n",
              "<table border=\"1\" class=\"dataframe\">\n",
              "  <thead>\n",
              "    <tr style=\"text-align: right;\">\n",
              "      <th></th>\n",
              "      <th>message</th>\n",
              "      <th>tweetid</th>\n",
              "      <th>sentiment</th>\n",
              "    </tr>\n",
              "  </thead>\n",
              "  <tbody>\n",
              "    <tr>\n",
              "      <th>0</th>\n",
              "      <td>Europe will now be looking to China to make su...</td>\n",
              "      <td>169760</td>\n",
              "      <td>1</td>\n",
              "    </tr>\n",
              "    <tr>\n",
              "      <th>1</th>\n",
              "      <td>Combine this with the polling of staffers re c...</td>\n",
              "      <td>35326</td>\n",
              "      <td>1</td>\n",
              "    </tr>\n",
              "    <tr>\n",
              "      <th>2</th>\n",
              "      <td>The scary, unimpeachable evidence that climate...</td>\n",
              "      <td>224985</td>\n",
              "      <td>1</td>\n",
              "    </tr>\n",
              "    <tr>\n",
              "      <th>3</th>\n",
              "      <td>@Karoli @morgfair @OsborneInk @dailykos \\nPuti...</td>\n",
              "      <td>476263</td>\n",
              "      <td>1</td>\n",
              "    </tr>\n",
              "    <tr>\n",
              "      <th>4</th>\n",
              "      <td>RT @FakeWillMoore: 'Female orgasms cause globa...</td>\n",
              "      <td>872928</td>\n",
              "      <td>0</td>\n",
              "    </tr>\n",
              "  </tbody>\n",
              "</table>\n",
              "</div>"
            ],
            "text/plain": [
              "                                             message  tweetid  sentiment\n",
              "0  Europe will now be looking to China to make su...   169760          1\n",
              "1  Combine this with the polling of staffers re c...    35326          1\n",
              "2  The scary, unimpeachable evidence that climate...   224985          1\n",
              "3  @Karoli @morgfair @OsborneInk @dailykos \\nPuti...   476263          1\n",
              "4  RT @FakeWillMoore: 'Female orgasms cause globa...   872928          0"
            ]
          },
          "metadata": {
            "tags": []
          },
          "execution_count": 77
        }
      ]
    },
    {
      "cell_type": "code",
      "metadata": {
        "id": "eTRjSr0US74f",
        "colab_type": "code",
        "colab": {
          "base_uri": "https://localhost:8080/",
          "height": 82
        },
        "outputId": "eca1a5ad-6d37-49b0-e9ad-549d1601d2ed"
      },
      "source": [
        "# Report the confusion matrix\n",
        "print(confusion_matrix(test_labels, lsvc_predictions))"
      ],
      "execution_count": 78,
      "outputs": [
        {
          "output_type": "stream",
          "text": [
            "[[ 135   35   95   13]\n",
            " [  18  183  192   32]\n",
            " [  29   77 1496  153]\n",
            " [   7   10  118  571]]\n"
          ],
          "name": "stdout"
        }
      ]
    },
    {
      "cell_type": "code",
      "metadata": {
        "id": "VNesCA-fS74j",
        "colab_type": "code",
        "colab": {
          "base_uri": "https://localhost:8080/",
          "height": 196
        },
        "outputId": "60b2e531-ceff-44cf-d1b9-7dd36e6893fc"
      },
      "source": [
        "# Print a classification report\n",
        "print(classification_report(test_labels, lsvc_predictions))"
      ],
      "execution_count": 79,
      "outputs": [
        {
          "output_type": "stream",
          "text": [
            "              precision    recall  f1-score   support\n",
            "\n",
            "          -1       0.71      0.49      0.58       278\n",
            "           0       0.60      0.43      0.50       425\n",
            "           1       0.79      0.85      0.82      1755\n",
            "           2       0.74      0.81      0.77       706\n",
            "\n",
            "    accuracy                           0.75      3164\n",
            "   macro avg       0.71      0.64      0.67      3164\n",
            "weighted avg       0.75      0.75      0.74      3164\n",
            "\n"
          ],
          "name": "stdout"
        }
      ]
    },
    {
      "cell_type": "code",
      "metadata": {
        "id": "V1dQ_DjaS74n",
        "colab_type": "code",
        "colab": {
          "base_uri": "https://localhost:8080/",
          "height": 33
        },
        "outputId": "4d6fee19-3b1e-4c52-c80f-9caffce818d7"
      },
      "source": [
        "# Print the overall accuracy\n",
        "print(accuracy_score(test_labels, lsvc_predictions))"
      ],
      "execution_count": 80,
      "outputs": [
        {
          "output_type": "stream",
          "text": [
            "0.7537926675094817\n"
          ],
          "name": "stdout"
        }
      ]
    },
    {
      "cell_type": "markdown",
      "metadata": {
        "id": "a5ZrJdIjS74r",
        "colab_type": "text"
      },
      "source": [
        "### Decision Tree Classifier"
      ]
    },
    {
      "cell_type": "markdown",
      "metadata": {
        "id": "qLM661_cS74s",
        "colab_type": "text"
      },
      "source": [
        "### Random Forest Classifier"
      ]
    },
    {
      "cell_type": "code",
      "metadata": {
        "id": "CQ5ANycAS74s",
        "colab_type": "code",
        "colab": {}
      },
      "source": [
        ""
      ],
      "execution_count": null,
      "outputs": []
    },
    {
      "cell_type": "code",
      "metadata": {
        "id": "3M53LkfvS74x",
        "colab_type": "code",
        "colab": {}
      },
      "source": [
        ""
      ],
      "execution_count": null,
      "outputs": []
    },
    {
      "cell_type": "code",
      "metadata": {
        "id": "jjf-dcuwS741",
        "colab_type": "code",
        "colab": {}
      },
      "source": [
        ""
      ],
      "execution_count": null,
      "outputs": []
    },
    {
      "cell_type": "code",
      "metadata": {
        "id": "nZyNWXl4S748",
        "colab_type": "code",
        "colab": {}
      },
      "source": [
        ""
      ],
      "execution_count": null,
      "outputs": []
    },
    {
      "cell_type": "code",
      "metadata": {
        "id": "Ni0fTtlMS75A",
        "colab_type": "code",
        "colab": {}
      },
      "source": [
        ""
      ],
      "execution_count": null,
      "outputs": []
    },
    {
      "cell_type": "code",
      "metadata": {
        "id": "c41n_grXS75F",
        "colab_type": "code",
        "colab": {}
      },
      "source": [
        ""
      ],
      "execution_count": null,
      "outputs": []
    },
    {
      "cell_type": "code",
      "metadata": {
        "id": "3Bm9vZzoS75H",
        "colab_type": "code",
        "colab": {}
      },
      "source": [
        ""
      ],
      "execution_count": null,
      "outputs": []
    },
    {
      "cell_type": "code",
      "metadata": {
        "id": "VjY7T9-aS75O",
        "colab_type": "code",
        "colab": {}
      },
      "source": [
        ""
      ],
      "execution_count": null,
      "outputs": []
    },
    {
      "cell_type": "code",
      "metadata": {
        "id": "gM4ZcffcS75S",
        "colab_type": "code",
        "colab": {}
      },
      "source": [
        ""
      ],
      "execution_count": null,
      "outputs": []
    },
    {
      "cell_type": "code",
      "metadata": {
        "id": "9IQeGZ06S75Z",
        "colab_type": "code",
        "colab": {}
      },
      "source": [
        ""
      ],
      "execution_count": null,
      "outputs": []
    },
    {
      "cell_type": "code",
      "metadata": {
        "id": "WnP907lCS75b",
        "colab_type": "code",
        "colab": {}
      },
      "source": [
        ""
      ],
      "execution_count": null,
      "outputs": []
    },
    {
      "cell_type": "code",
      "metadata": {
        "id": "awlvqoELS75d",
        "colab_type": "code",
        "colab": {}
      },
      "source": [
        ""
      ],
      "execution_count": null,
      "outputs": []
    },
    {
      "cell_type": "code",
      "metadata": {
        "id": "15R687N5S75g",
        "colab_type": "code",
        "colab": {}
      },
      "source": [
        "def get_polarity(n_grams):\n",
        "    polarities = []\n",
        "    #for n_gram in n_grams:\n",
        "    return TextBlob(' '.join(n_grams)).sentiment.polarity\n",
        "    #return sum(polarities) / len(polarities)"
      ],
      "execution_count": null,
      "outputs": []
    },
    {
      "cell_type": "code",
      "metadata": {
        "id": "lGq6hpJuS75i",
        "colab_type": "code",
        "colab": {}
      },
      "source": [
        "def get_sentivity(n_grams):\n",
        "    sensitivities = []\n",
        "    for n_gram in n_grams:\n",
        "        sentivities.append(TextBlob(n_gram).sentiment.sensitivity())\n",
        "    return sum(sentivities) / len(sentivities)"
      ],
      "execution_count": null,
      "outputs": []
    }
  ]
}