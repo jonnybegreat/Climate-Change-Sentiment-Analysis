{
 "cells": [
  {
   "cell_type": "code",
   "execution_count": 32,
   "metadata": {},
   "outputs": [],
   "source": [
    "#general modules\n",
    "import numpy as np\n",
    "import matplotlib.pyplot as plt\n",
    "import pandas as pd\n",
    "import nltk\n",
    "from nltk.corpus import stopwords\n",
    "from sklearn.feature_extraction import text\n",
    "from sklearn.feature_extraction.stop_words import ENGLISH_STOP_WORDS\n",
    "from sklearn.feature_extraction.text import TfidfVectorizer\n",
    "\n",
    "#modules for n-gram model\n",
    "#warnings ot surpressed\n",
    "import tensorflow as tf\n",
    "from tensorflow import keras\n",
    "from keras import models\n",
    "from keras.layers import Dense\n",
    "from keras.layers import Dropout\n",
    "from keras.optimizers import Adam\n",
    "from keras import backend as K #backend to use outside metrics on n-gram model\n"
   ]
  },
  {
   "cell_type": "code",
   "execution_count": 5,
   "metadata": {},
   "outputs": [],
   "source": [
    "train = pd.read_csv('Train.csv')"
   ]
  },
  {
   "cell_type": "code",
   "execution_count": 6,
   "metadata": {},
   "outputs": [
    {
     "name": "stdout",
     "output_type": "stream",
     "text": [
      "15819\n"
     ]
    }
   ],
   "source": [
    "#Number of samples\n",
    "sample_tot = len(train.index.values)\n",
    "print(sample_tot)"
   ]
  },
  {
   "cell_type": "code",
   "execution_count": 7,
   "metadata": {},
   "outputs": [
    {
     "name": "stdout",
     "output_type": "stream",
     "text": [
      "{0, 1, 2, -1}\n",
      "4\n"
     ]
    }
   ],
   "source": [
    "#Number of classes\n",
    "sent_val = set(train['sentiment'].values)\n",
    "sent_count = len(set(train['sentiment'].values))\n",
    "print(sent_val)\n",
    "print(sent_count)"
   ]
  },
  {
   "cell_type": "code",
   "execution_count": 8,
   "metadata": {},
   "outputs": [
    {
     "name": "stdout",
     "output_type": "stream",
     "text": [
      "Sentiment 0 observations :2353\n",
      "Sentiment 1 observations :8530\n",
      "Sentiment 2 observations :3640\n",
      "Sentiment -1 observations :1296\n"
     ]
    }
   ],
   "source": [
    "#number of samples per class\n",
    "for i in set(train['sentiment'].values):\n",
    "    count = 0\n",
    "    for x in train['sentiment']:\n",
    "        if x == i:\n",
    "            count+=1\n",
    "    print(\"Sentiment \"+ str(i)+' '+ \"observations :\"+ str(count))"
   ]
  },
  {
   "cell_type": "code",
   "execution_count": 9,
   "metadata": {},
   "outputs": [
    {
     "name": "stdout",
     "output_type": "stream",
     "text": [
      "18.0\n"
     ]
    }
   ],
   "source": [
    "#median words per tweet\n",
    "def word_count(text):\n",
    "    num_words = [len(s.split()) for s in text]\n",
    "    return np.median(num_words)\n",
    "words = word_count(train['message'])\n",
    "print(words)"
   ]
  },
  {
   "cell_type": "code",
   "execution_count": 10,
   "metadata": {},
   "outputs": [
    {
     "data": {
      "image/png": "[encoded data removed]",
      "text/plain": [
       "<Figure size 432x288 with 1 Axes>"
      ]
     },
     "metadata": {
      "needs_background": "light"
     },
     "output_type": "display_data"
    }
   ],
   "source": [
    "#distr. tweet lengths\n",
    "def sample_plotter(text2):\n",
    "    plt.hist([len(s) for s in text2], 50)\n",
    "    plt.xlabel('tweet length')\n",
    "    plt.ylabel('nuber of tweets')\n",
    "    plt.title('Sample length distribution')\n",
    "    plt.show()\n",
    "\n",
    "sample_plotter(train['message'])"
   ]
  },
  {
   "cell_type": "code",
   "execution_count": 11,
   "metadata": {},
   "outputs": [
    {
     "data": {
      "text/html": [
       "<div>\n",
       "<style scoped>\n",
       "    .dataframe tbody tr th:only-of-type {\n",
       "        vertical-align: middle;\n",
       "    }\n",
       "\n",
       "    .dataframe tbody tr th {\n",
       "        vertical-align: top;\n",
       "    }\n",
       "\n",
       "    .dataframe thead th {\n",
       "        text-align: right;\n",
       "    }\n",
       "</style>\n",
       "<table border=\"1\" class=\"dataframe\">\n",
       "  <thead>\n",
       "    <tr style=\"text-align: right;\">\n",
       "      <th></th>\n",
       "      <th>sentiment</th>\n",
       "      <th>message</th>\n",
       "      <th>tweetid</th>\n",
       "    </tr>\n",
       "  </thead>\n",
       "  <tbody>\n",
       "    <tr>\n",
       "      <th>0</th>\n",
       "      <td>1</td>\n",
       "      <td>PolySciMajor EPA chief doesn't think carbon di...</td>\n",
       "      <td>625221</td>\n",
       "    </tr>\n",
       "    <tr>\n",
       "      <th>1</th>\n",
       "      <td>1</td>\n",
       "      <td>It's not like we lack evidence of anthropogeni...</td>\n",
       "      <td>126103</td>\n",
       "    </tr>\n",
       "    <tr>\n",
       "      <th>2</th>\n",
       "      <td>2</td>\n",
       "      <td>RT @RawStory: Researchers say we have three ye...</td>\n",
       "      <td>698562</td>\n",
       "    </tr>\n",
       "    <tr>\n",
       "      <th>3</th>\n",
       "      <td>1</td>\n",
       "      <td>#TodayinMaker# WIRED : 2016 was a pivotal year...</td>\n",
       "      <td>573736</td>\n",
       "    </tr>\n",
       "    <tr>\n",
       "      <th>4</th>\n",
       "      <td>1</td>\n",
       "      <td>RT @SoyNovioDeTodas: It's 2016, and a racist, ...</td>\n",
       "      <td>466954</td>\n",
       "    </tr>\n",
       "  </tbody>\n",
       "</table>\n",
       "</div>"
      ],
      "text/plain": [
       "   sentiment                                            message  tweetid\n",
       "0          1  PolySciMajor EPA chief doesn't think carbon di...   625221\n",
       "1          1  It's not like we lack evidence of anthropogeni...   126103\n",
       "2          2  RT @RawStory: Researchers say we have three ye...   698562\n",
       "3          1  #TodayinMaker# WIRED : 2016 was a pivotal year...   573736\n",
       "4          1  RT @SoyNovioDeTodas: It's 2016, and a racist, ...   466954"
      ]
     },
     "execution_count": 11,
     "metadata": {},
     "output_type": "execute_result"
    }
   ],
   "source": [
    "train.head()"
   ]
  },
  {
   "cell_type": "code",
   "execution_count": 12,
   "metadata": {},
   "outputs": [
    {
     "name": "stdout",
     "output_type": "stream",
     "text": [
      "879.0\n"
     ]
    }
   ],
   "source": [
    "#word sample ratios\n",
    "word_sample_ratio = sample_tot/words\n",
    "print(round(word_sample_ratio, 0))"
   ]
  },
  {
   "cell_type": "code",
   "execution_count": 13,
   "metadata": {},
   "outputs": [
    {
     "data": {
      "text/plain": [
       "0        2\n",
       "1        2\n",
       "2        2\n",
       "3        2\n",
       "4        2\n",
       "        ..\n",
       "15814    2\n",
       "15815    2\n",
       "15816    1\n",
       "15817    0\n",
       "15818    1\n",
       "Name: sentiment, Length: 15819, dtype: int64"
      ]
     },
     "execution_count": 13,
     "metadata": {},
     "output_type": "execute_result"
    }
   ],
   "source": [
    "#sentiment prep\n",
    "def adder(text):\n",
    "    num = int(text)\n",
    "    num = num + 1\n",
    "    return num\n",
    "train['sentiment'] = train['sentiment'].apply(adder)\n",
    "train['sentiment'] = train['sentiment'].replace(3, 2) #combining thwe last two classes to work with the n-gram \n",
    "train['sentiment']"
   ]
  },
  {
   "cell_type": "code",
   "execution_count": 17,
   "metadata": {},
   "outputs": [],
   "source": [
    "#stop words\n",
    "stop2 = text.ENGLISH_STOP_WORDS\n",
    "stop = set(stopwords.words('english'))"
   ]
  },
  {
   "cell_type": "code",
   "execution_count": 18,
   "metadata": {},
   "outputs": [],
   "source": [
    "X = train.iloc[:, 1].values\n",
    "y = train.iloc[:, 0].values"
   ]
  },
  {
   "cell_type": "code",
   "execution_count": 19,
   "metadata": {},
   "outputs": [],
   "source": [
    "#test and train\n",
    "from sklearn.model_selection import train_test_split\n",
    "train_text, test_text, train_val, test_val = train_test_split(X, y, test_size=0.20, shuffle = True, random_state=32)"
   ]
  },
  {
   "cell_type": "code",
   "execution_count": 26,
   "metadata": {},
   "outputs": [],
   "source": [
    "#tokenizing into uni+bi-grams and vectorizing\n",
    "from sklearn.feature_extraction.text import TfidfTransformer\n",
    "\n",
    "\n",
    "t_vector = TfidfVectorizer(ngram_range=(1, 2),\n",
    "                            \n",
    "                           strip_accents = 'unicode',\n",
    "                           decode_error = 'replace',\n",
    "                           analyzer = 'word',\n",
    "                           min_df = .1, \n",
    "                           max_df = .50,\n",
    "                           stop_words = stop)\n",
    "x_train = t_vector.fit_transform(train_text)\n",
    "x_val = t_vector.transform(test_text)"
   ]
  },
  {
   "cell_type": "code",
   "execution_count": 27,
   "metadata": {},
   "outputs": [],
   "source": [
    "#Selecting top 20 000 Features for n-gram model\n",
    "from sklearn.feature_selection import SelectKBest\n",
    "from sklearn.feature_selection import f_classif\n",
    "\n",
    "b_vect = SelectKBest(f_classif, k = min(20000, x_train.shape[1]))\n",
    "b_vect.fit(x_train, train_val)\n",
    "x_train = b_vect.transform(x_train).astype('float32')\n",
    "x_val = b_vect.transform(x_val).astype('float32')\n"
   ]
  },
  {
   "cell_type": "code",
   "execution_count": 28,
   "metadata": {},
   "outputs": [
    {
     "data": {
      "text/plain": [
       "<12655x5 sparse matrix of type '<class 'numpy.float32'>'\n",
       "\twith 11938 stored elements in Compressed Sparse Row format>"
      ]
     },
     "execution_count": 28,
     "metadata": {},
     "output_type": "execute_result"
    }
   ],
   "source": [
    "x_train"
   ]
  },
  {
   "cell_type": "code",
   "execution_count": 29,
   "metadata": {},
   "outputs": [
    {
     "data": {
      "text/plain": [
       "<3164x5 sparse matrix of type '<class 'numpy.float32'>'\n",
       "\twith 3131 stored elements in Compressed Sparse Row format>"
      ]
     },
     "execution_count": 29,
     "metadata": {},
     "output_type": "execute_result"
    }
   ],
   "source": [
    "x_val"
   ]
  },
  {
   "cell_type": "code",
   "execution_count": 30,
   "metadata": {},
   "outputs": [],
   "source": [
    "#building  multilayer perceptron\n",
    "#not optimized\n",
    "\n",
    "drop_rate = 0.2\n",
    "layers = 2\n",
    "clasif = models.Sequential()\n",
    "clasif.add(Dropout(rate = drop_rate, input_shape = x_train.shape[1:]))\n",
    "for lvl in range(layers - 1):\n",
    "    clasif.add(Dense(units = 3, activation = 'relu'))\n",
    "    clasif.add(Dropout(rate = 0.1))\n",
    "clasif.add(Dense(units = 3,activation = 'softmax'))"
   ]
  },
  {
   "cell_type": "code",
   "execution_count": 33,
   "metadata": {},
   "outputs": [
    {
     "name": "stdout",
     "output_type": "stream",
     "text": [
      "WARNING:tensorflow:From C:\\ProgramData\\Anaconda3\\lib\\site-packages\\keras\\backend\\tensorflow_backend.py:422: The name tf.global_variables is deprecated. Please use tf.compat.v1.global_variables instead.\n",
      "\n",
      "Train on 12655 samples, validate on 3164 samples\n",
      "Epoch 1/1000\n",
      " - 0s - loss: 1.0303 - acc: 0.7512 - f1_m: 4.4412 - precision_m: 893131328.0000 - recall_m: 2.3923 - val_loss: 0.9719 - val_acc: 0.7724 - val_f1_m: 3.6293 - val_precision_m: 10.0274 - val_recall_m: 2.2285\n",
      "Epoch 2/1000\n",
      " - 0s - loss: 0.9261 - acc: 0.7682 - f1_m: 3.4401 - precision_m: 8.1041 - recall_m: 2.2074 - val_loss: 0.8837 - val_acc: 0.7724 - val_f1_m: 2.5653 - val_precision_m: 4.7825 - val_recall_m: 1.7585\n",
      "Epoch 3/1000\n",
      " - 0s - loss: 0.8516 - acc: 0.7685 - f1_m: 2.1356 - precision_m: 3.2231 - recall_m: 1.7311 - val_loss: 0.8196 - val_acc: 0.7724 - val_f1_m: 1.7136 - val_precision_m: 1.7502 - val_recall_m: 1.6798\n",
      "Epoch 4/1000\n",
      " - 0s - loss: 0.7944 - acc: 0.7685 - f1_m: 1.2644 - precision_m: 1.2728 - recall_m: 1.2584 - val_loss: 0.7629 - val_acc: 0.7724 - val_f1_m: 1.0672 - val_precision_m: 1.0247 - val_recall_m: 1.1139\n",
      "Epoch 5/1000\n",
      " - 0s - loss: 0.7441 - acc: 0.7685 - f1_m: 0.9938 - precision_m: 0.9599 - recall_m: 1.0306 - val_loss: 0.7153 - val_acc: 0.7724 - val_f1_m: 0.9581 - val_precision_m: 0.9200 - val_recall_m: 1.0000\n",
      "Epoch 6/1000\n",
      " - 0s - loss: 0.7101 - acc: 0.7685 - f1_m: 0.9633 - precision_m: 0.9252 - recall_m: 1.0050 - val_loss: 0.6855 - val_acc: 0.7724 - val_f1_m: 0.9581 - val_precision_m: 0.9200 - val_recall_m: 1.0000\n",
      "Epoch 7/1000\n",
      " - 0s - loss: 0.6874 - acc: 0.7685 - f1_m: 0.9602 - precision_m: 0.9216 - recall_m: 1.0025 - val_loss: 0.6667 - val_acc: 0.7724 - val_f1_m: 0.9581 - val_precision_m: 0.9200 - val_recall_m: 1.0000\n",
      "Epoch 8/1000\n",
      " - 0s - loss: 0.6758 - acc: 0.7685 - f1_m: 0.9643 - precision_m: 0.9257 - recall_m: 1.0066 - val_loss: 0.6552 - val_acc: 0.7724 - val_f1_m: 0.9581 - val_precision_m: 0.9200 - val_recall_m: 1.0000\n",
      "Epoch 9/1000\n",
      " - 0s - loss: 0.6684 - acc: 0.7685 - f1_m: 0.9702 - precision_m: 0.9347 - recall_m: 1.0090 - val_loss: 0.6490 - val_acc: 0.7724 - val_f1_m: 0.9581 - val_precision_m: 0.9200 - val_recall_m: 1.0000\n",
      "Epoch 10/1000\n",
      " - 0s - loss: 0.6646 - acc: 0.7685 - f1_m: 0.9714 - precision_m: 0.9361 - recall_m: 1.0098 - val_loss: 0.6450 - val_acc: 0.7724 - val_f1_m: 0.9581 - val_precision_m: 0.9200 - val_recall_m: 1.0000\n",
      "Epoch 11/1000\n",
      " - 0s - loss: 0.6651 - acc: 0.7685 - f1_m: 0.9699 - precision_m: 0.9345 - recall_m: 1.0084 - val_loss: 0.6425 - val_acc: 0.7724 - val_f1_m: 0.9581 - val_precision_m: 0.9200 - val_recall_m: 1.0000\n",
      "Epoch 12/1000\n",
      " - 0s - loss: 0.6624 - acc: 0.7685 - f1_m: 0.9760 - precision_m: 0.9425 - recall_m: 1.0124 - val_loss: 0.6407 - val_acc: 0.7724 - val_f1_m: 0.9581 - val_precision_m: 0.9200 - val_recall_m: 1.0000\n",
      "Epoch 13/1000\n",
      " - 0s - loss: 0.6607 - acc: 0.7685 - f1_m: 0.9721 - precision_m: 0.9372 - recall_m: 1.0100 - val_loss: 0.6397 - val_acc: 0.7724 - val_f1_m: 0.9581 - val_precision_m: 0.9200 - val_recall_m: 1.0000\n",
      "Epoch 14/1000\n",
      " - 0s - loss: 0.6580 - acc: 0.7685 - f1_m: 1.0105 - precision_m: 0.9750 - recall_m: 1.0491 - val_loss: 0.6384 - val_acc: 0.7724 - val_f1_m: 0.9581 - val_precision_m: 0.9200 - val_recall_m: 1.0000\n",
      "Epoch 15/1000\n",
      " - 0s - loss: 0.6586 - acc: 0.7685 - f1_m: 1.0220 - precision_m: 0.9859 - recall_m: 1.0614 - val_loss: 0.6376 - val_acc: 0.7724 - val_f1_m: 0.9581 - val_precision_m: 0.9200 - val_recall_m: 1.0000\n",
      "Epoch 16/1000\n",
      " - 0s - loss: 0.6594 - acc: 0.7685 - f1_m: 1.0238 - precision_m: 0.9874 - recall_m: 1.0634 - val_loss: 0.6373 - val_acc: 0.7724 - val_f1_m: 0.9581 - val_precision_m: 0.9200 - val_recall_m: 1.0000\n",
      "Epoch 17/1000\n",
      " - 0s - loss: 0.6595 - acc: 0.7685 - f1_m: 1.0260 - precision_m: 0.9896 - recall_m: 1.0654 - val_loss: 0.6365 - val_acc: 0.7724 - val_f1_m: 1.0698 - val_precision_m: 1.0272 - val_recall_m: 1.1166\n",
      "Epoch 18/1000\n",
      " - 0s - loss: 0.6570 - acc: 0.7685 - f1_m: 1.0299 - precision_m: 0.9941 - recall_m: 1.0688 - val_loss: 0.6360 - val_acc: 0.7724 - val_f1_m: 1.0698 - val_precision_m: 1.0272 - val_recall_m: 1.1166\n",
      "Epoch 19/1000\n",
      " - 0s - loss: 0.6553 - acc: 0.7685 - f1_m: 1.0348 - precision_m: 0.9996 - recall_m: 1.0731 - val_loss: 0.6355 - val_acc: 0.7724 - val_f1_m: 1.0698 - val_precision_m: 1.0272 - val_recall_m: 1.1166\n",
      "Epoch 20/1000\n",
      " - 0s - loss: 0.6560 - acc: 0.7685 - f1_m: 1.0351 - precision_m: 0.9987 - recall_m: 1.0746 - val_loss: 0.6354 - val_acc: 0.7724 - val_f1_m: 1.0698 - val_precision_m: 1.0272 - val_recall_m: 1.1166\n",
      "Epoch 21/1000\n",
      " - 0s - loss: 0.6574 - acc: 0.7685 - f1_m: 1.0437 - precision_m: 1.0078 - recall_m: 1.0827 - val_loss: 0.6351 - val_acc: 0.7724 - val_f1_m: 1.0698 - val_precision_m: 1.0272 - val_recall_m: 1.1166\n",
      "Epoch 22/1000\n",
      " - 0s - loss: 0.6550 - acc: 0.7685 - f1_m: 1.0441 - precision_m: 1.0079 - recall_m: 1.0836 - val_loss: 0.6348 - val_acc: 0.7724 - val_f1_m: 1.0698 - val_precision_m: 1.0272 - val_recall_m: 1.1166\n",
      "Epoch 23/1000\n",
      " - 0s - loss: 0.6577 - acc: 0.7685 - f1_m: 1.0423 - precision_m: 1.0054 - recall_m: 1.0824 - val_loss: 0.6349 - val_acc: 0.7724 - val_f1_m: 1.0698 - val_precision_m: 1.0272 - val_recall_m: 1.1166\n",
      "Epoch 24/1000\n",
      " - 0s - loss: 0.6561 - acc: 0.7685 - f1_m: 1.0426 - precision_m: 1.0068 - recall_m: 1.0815 - val_loss: 0.6349 - val_acc: 0.7724 - val_f1_m: 1.0698 - val_precision_m: 1.0272 - val_recall_m: 1.1166\n",
      "Validation accuracy: 0.7724399566650391, loss: 0.6348642061844788, f1_score: [3.629340171813965, 2.565342903137207, 1.713582158088684, 1.0672497749328613, 0.9581353664398193, 0.9581353664398193, 0.9581353664398193, 0.9581353664398193, 0.9581353664398193, 0.9581353664398193, 0.9581353664398193, 0.9581353664398193, 0.9581353664398193, 0.9581353664398193, 0.9581353664398193, 0.9581353664398193, 1.069822072982788, 1.069822072982788, 1.069822072982788, 1.069822072982788, 1.069822072982788, 1.069822072982788, 1.069822072982788, 1.069822072982788]\n"
     ]
    }
   ],
   "source": [
    "#N-gram model training and validation. Haven't used balance library\n",
    "#Metrics calc for metrics not available in Keras. Funcs from Stackoverflow\n",
    "\n",
    "def recall_m(y_true, y_pred):\n",
    "    true_positives = K.sum(K.round(K.clip(y_true * y_pred, 0, 1)))\n",
    "    possible_positives = K.sum(K.round(K.clip(y_true, 0, 1)))\n",
    "    recall = true_positives / (possible_positives + K.epsilon())\n",
    "    return recall\n",
    "\n",
    "def precision_m(y_true, y_pred):\n",
    "    true_positives = K.sum(K.round(K.clip(y_true * y_pred, 0, 1)))\n",
    "    predicted_positives = K.sum(K.round(K.clip(y_pred, 0, 1)))\n",
    "    precision = true_positives / (predicted_positives + K.epsilon())\n",
    "    return precision\n",
    "\n",
    "def f1_m(y_true, y_pred):\n",
    "    precision = precision_m(y_true, y_pred)\n",
    "    recall = recall_m(y_true, y_pred)\n",
    "    return 2*((precision*recall)/(precision+recall+K.epsilon()))\n",
    "\n",
    "\n",
    "optimizer = Adam(lr = 1e-3)\n",
    "clasif.compile(optimizer, loss = 'sparse_categorical_crossentropy', metrics = ['acc', f1_m, precision_m, recall_m]) # can remove the above metrics from here for a cleaner readout\n",
    "callbacks = [tf.keras.callbacks.EarlyStopping(monitor='val_loss', patience=2)]\n",
    "history = clasif.fit(\n",
    "            x_train,\n",
    "            train_val,\n",
    "            epochs=1000,\n",
    "            batch_size = 128,\n",
    "            callbacks=callbacks,\n",
    "            validation_data=(x_val, test_val),\n",
    "            verbose=2,  # Logs once per epoch.\n",
    "            )\n",
    "history = history.history\n",
    "print('Validation accuracy: {acc}, loss: {loss}, f1_score: {f1}'.format(acc=history['val_acc'][-1], loss=history['val_loss'][-1], f1 = history['val_f1_m']))"
   ]
  },
  {
   "cell_type": "code",
   "execution_count": 35,
   "metadata": {},
   "outputs": [
    {
     "data": {
      "text/plain": [
       "array([2, 2, 2, ..., 2, 2, 2], dtype=int64)"
      ]
     },
     "execution_count": 35,
     "metadata": {},
     "output_type": "execute_result"
    }
   ],
   "source": [
    "clasif.predict_classes(x_val) #predicting classes with the n-gram"
   ]
  },
  {
   "cell_type": "code",
   "execution_count": 1,
   "metadata": {},
   "outputs": [
    {
     "data": {
      "text/plain": [
       "\"\\nfrom imblearn.over_sampling import KMeansSMOTE, ADASYN, SMOTE, BorderlineSMOTE, SVMSMOTE, SMOTENC, RandomOverSampler\\nfrom imblearn.pipeline import make_pipeline\\npipeline = make_pipeline(RandomOverSampler(random_state=32), CatBoostClassifier(depth=9, \\n                                                                                bootstrap_type= 'Bayesian', \\n                                                                                loss_function = 'MultiClass', \\n                                                                                iterations=80, learning_rate=0.4, l2_leaf_reg=26))\\npipeline.fit(X_trainer, y_trainer)\\n\""
      ]
     },
     "execution_count": 1,
     "metadata": {},
     "output_type": "execute_result"
    }
   ],
   "source": [
    "'''\n",
    "from imblearn.over_sampling import KMeansSMOTE, ADASYN, SMOTE, BorderlineSMOTE, SVMSMOTE, SMOTENC, RandomOverSampler\n",
    "from imblearn.pipeline import make_pipeline\n",
    "pipeline = make_pipeline(RandomOverSampler(random_state=32), CatBoostClassifier(depth=9, \n",
    "                                                                                bootstrap_type= 'Bayesian', \n",
    "                                                                                loss_function = 'MultiClass', \n",
    "                                                                                iterations=80, learning_rate=0.4, l2_leaf_reg=26))\n",
    "pipeline.fit(X_trainer, y_trainer)\n",
    "'''"
   ]
  }
 ],
 "metadata": {
  "kernelspec": {
   "display_name": "Python 3.7.4 64-bit ('ProgramData': virtualenv)",
   "language": "python",
   "name": "python37464bitprogramdatavirtualenv2203a48eb30e4608bccee8d0c91a3fd7"
  },
  "language_info": {
   "codemirror_mode": {
    "name": "ipython",
    "version": 3
   },
   "file_extension": ".py",
   "mimetype": "text/x-python",
   "name": "python",
   "nbconvert_exporter": "python",
   "pygments_lexer": "ipython3",
   "version": "3.7.7"
  }
 },
 "nbformat": 4,
 "nbformat_minor": 4
}
